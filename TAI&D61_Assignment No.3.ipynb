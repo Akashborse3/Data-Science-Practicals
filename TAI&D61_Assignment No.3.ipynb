{
 "cells": [
  {
   "cell_type": "code",
   "execution_count": 45,
   "id": "f2d2618d",
   "metadata": {},
   "outputs": [],
   "source": [
    "import pandas as pd\n",
    "import numpy as np"
   ]
  },
  {
   "cell_type": "code",
   "execution_count": 47,
   "id": "c56d8f4a",
   "metadata": {},
   "outputs": [
    {
     "name": "stdout",
     "output_type": "stream",
     "text": [
      "The mean of data is : 5.5\n"
     ]
    }
   ],
   "source": [
    "# mean\n",
    "\n",
    "from statistics import mean\n",
    "mean_data = mean(data)\n",
    "print(\"The mean of data is :\" , mean_data)"
   ]
  },
  {
   "cell_type": "code",
   "execution_count": 48,
   "id": "ae5c01e2",
   "metadata": {},
   "outputs": [
    {
     "name": "stdout",
     "output_type": "stream",
     "text": [
      "The median of data is :  5.5\n"
     ]
    }
   ],
   "source": [
    "# median\n",
    "\n",
    "from statistics import median\n",
    "median_data = median(data)\n",
    "print(\"The median of data is : \", median_data)"
   ]
  },
  {
   "cell_type": "code",
   "execution_count": 49,
   "id": "09a5acbc",
   "metadata": {},
   "outputs": [
    {
     "name": "stdout",
     "output_type": "stream",
     "text": [
      "The mode of data is :  1\n"
     ]
    }
   ],
   "source": [
    "# mode\n",
    "\n",
    "from statistics import mode\n",
    "mode_data = mode(data)\n",
    "print(\"The mode of data is : \", mode_data)"
   ]
  },
  {
   "cell_type": "code",
   "execution_count": 54,
   "id": "e8756a16",
   "metadata": {},
   "outputs": [
    {
     "name": "stdout",
     "output_type": "stream",
     "text": [
      "The sd of data is :  3.0276503540974917\n"
     ]
    }
   ],
   "source": [
    "# standard deviation\n",
    "\n",
    "from statistics import stdev\n",
    "sd_data = stdev(data)\n",
    "print(\"The sd of data is : \", sd_data)"
   ]
  },
  {
   "cell_type": "code",
   "execution_count": 8,
   "id": "05d43645",
   "metadata": {},
   "outputs": [
    {
     "name": "stdout",
     "output_type": "stream",
     "text": [
      "Mean: 5.5\n"
     ]
    }
   ],
   "source": [
    "data = [1,2,3,4,5,6,7,8,9,10] # example dataset\n",
    "\n",
    "# mean\n",
    "\n",
    "mean = sum(data) / len(data)\n",
    "print(\"Mean:\", mean)"
   ]
  },
  {
   "cell_type": "code",
   "execution_count": 9,
   "id": "2bcd1a3a",
   "metadata": {},
   "outputs": [
    {
     "name": "stdout",
     "output_type": "stream",
     "text": [
      "Median: 5.5\n"
     ]
    }
   ],
   "source": [
    "# Median\n",
    "\n",
    "sorted_data = sorted(data)\n",
    "n = len(data)\n",
    "if n % 2 == 0:\n",
    "    median = (sorted_data[n//2 - 1] + sorted_data[n//2]) / 2\n",
    "else:\n",
    "    median = sorted_data[n//2]\n",
    "print(\"Median:\", median)"
   ]
  },
  {
   "cell_type": "code",
   "execution_count": 10,
   "id": "213109c9",
   "metadata": {},
   "outputs": [
    {
     "name": "stdout",
     "output_type": "stream",
     "text": [
      "Mode: 1\n"
     ]
    }
   ],
   "source": [
    "# mode\n",
    "from collections import Counter\n",
    "mode = Counter(data).most_common(1)[0][0]\n",
    "print(\"Mode:\", mode)"
   ]
  },
  {
   "cell_type": "code",
   "execution_count": null,
   "id": "f5b79566",
   "metadata": {},
   "outputs": [],
   "source": []
  }
 ],
 "metadata": {
  "kernelspec": {
   "display_name": "Python 3",
   "language": "python",
   "name": "python3"
  },
  "language_info": {
   "codemirror_mode": {
    "name": "ipython",
    "version": 3
   },
   "file_extension": ".py",
   "mimetype": "text/x-python",
   "name": "python",
   "nbconvert_exporter": "python",
   "pygments_lexer": "ipython3",
   "version": "3.8.8"
  }
 },
 "nbformat": 4,
 "nbformat_minor": 5
}
