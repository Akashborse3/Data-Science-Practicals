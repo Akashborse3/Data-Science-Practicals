{
 "cells": [
  {
   "cell_type": "code",
   "execution_count": 13,
   "id": "2b437fb2",
   "metadata": {},
   "outputs": [],
   "source": [
    "import pandas as pd\n",
    "import numpy as np\n",
    "import seaborn as sns\n",
    "import matplotlib.pyplot as plt\n",
    "\n",
    "from warnings import filterwarnings\n",
    "filterwarnings(\"ignore\")"
   ]
  },
  {
   "cell_type": "code",
   "execution_count": 14,
   "id": "98317036",
   "metadata": {},
   "outputs": [],
   "source": [
    "df = pd.read_csv(\"housing.csv\")"
   ]
  },
  {
   "cell_type": "code",
   "execution_count": 15,
   "id": "cff5e75b",
   "metadata": {},
   "outputs": [
    {
     "data": {
      "text/html": [
       "<div>\n",
       "<style scoped>\n",
       "    .dataframe tbody tr th:only-of-type {\n",
       "        vertical-align: middle;\n",
       "    }\n",
       "\n",
       "    .dataframe tbody tr th {\n",
       "        vertical-align: top;\n",
       "    }\n",
       "\n",
       "    .dataframe thead th {\n",
       "        text-align: right;\n",
       "    }\n",
       "</style>\n",
       "<table border=\"1\" class=\"dataframe\">\n",
       "  <thead>\n",
       "    <tr style=\"text-align: right;\">\n",
       "      <th></th>\n",
       "      <th>CRIM</th>\n",
       "      <th>ZN</th>\n",
       "      <th>INDUS</th>\n",
       "      <th>CHAS</th>\n",
       "      <th>NOX</th>\n",
       "      <th>RM</th>\n",
       "      <th>AGE</th>\n",
       "      <th>DIS</th>\n",
       "      <th>RAD</th>\n",
       "      <th>TAX</th>\n",
       "      <th>PTRATIO</th>\n",
       "      <th>B</th>\n",
       "      <th>LSTAT</th>\n",
       "      <th>MEDV</th>\n",
       "    </tr>\n",
       "  </thead>\n",
       "  <tbody>\n",
       "    <tr>\n",
       "      <th>0</th>\n",
       "      <td>0.00632</td>\n",
       "      <td>18.0</td>\n",
       "      <td>2.31</td>\n",
       "      <td>0</td>\n",
       "      <td>0.538</td>\n",
       "      <td>6.575</td>\n",
       "      <td>65.2</td>\n",
       "      <td>4.0900</td>\n",
       "      <td>1</td>\n",
       "      <td>296</td>\n",
       "      <td>15.3</td>\n",
       "      <td>396.90</td>\n",
       "      <td>4.98</td>\n",
       "      <td>24.0</td>\n",
       "    </tr>\n",
       "    <tr>\n",
       "      <th>1</th>\n",
       "      <td>0.02731</td>\n",
       "      <td>0.0</td>\n",
       "      <td>7.07</td>\n",
       "      <td>0</td>\n",
       "      <td>0.469</td>\n",
       "      <td>6.421</td>\n",
       "      <td>78.9</td>\n",
       "      <td>4.9671</td>\n",
       "      <td>2</td>\n",
       "      <td>242</td>\n",
       "      <td>17.8</td>\n",
       "      <td>396.90</td>\n",
       "      <td>9.14</td>\n",
       "      <td>21.6</td>\n",
       "    </tr>\n",
       "    <tr>\n",
       "      <th>2</th>\n",
       "      <td>0.02729</td>\n",
       "      <td>0.0</td>\n",
       "      <td>7.07</td>\n",
       "      <td>0</td>\n",
       "      <td>0.469</td>\n",
       "      <td>7.185</td>\n",
       "      <td>61.1</td>\n",
       "      <td>4.9671</td>\n",
       "      <td>2</td>\n",
       "      <td>242</td>\n",
       "      <td>17.8</td>\n",
       "      <td>392.83</td>\n",
       "      <td>4.03</td>\n",
       "      <td>34.7</td>\n",
       "    </tr>\n",
       "    <tr>\n",
       "      <th>3</th>\n",
       "      <td>0.03237</td>\n",
       "      <td>0.0</td>\n",
       "      <td>2.18</td>\n",
       "      <td>0</td>\n",
       "      <td>0.458</td>\n",
       "      <td>6.998</td>\n",
       "      <td>45.8</td>\n",
       "      <td>6.0622</td>\n",
       "      <td>3</td>\n",
       "      <td>222</td>\n",
       "      <td>18.7</td>\n",
       "      <td>394.63</td>\n",
       "      <td>2.94</td>\n",
       "      <td>33.4</td>\n",
       "    </tr>\n",
       "    <tr>\n",
       "      <th>4</th>\n",
       "      <td>0.06905</td>\n",
       "      <td>0.0</td>\n",
       "      <td>2.18</td>\n",
       "      <td>0</td>\n",
       "      <td>0.458</td>\n",
       "      <td>7.147</td>\n",
       "      <td>54.2</td>\n",
       "      <td>6.0622</td>\n",
       "      <td>3</td>\n",
       "      <td>222</td>\n",
       "      <td>18.7</td>\n",
       "      <td>396.90</td>\n",
       "      <td>5.33</td>\n",
       "      <td>36.2</td>\n",
       "    </tr>\n",
       "  </tbody>\n",
       "</table>\n",
       "</div>"
      ],
      "text/plain": [
       "      CRIM    ZN  INDUS  CHAS    NOX     RM   AGE     DIS  RAD  TAX  PTRATIO  \\\n",
       "0  0.00632  18.0   2.31     0  0.538  6.575  65.2  4.0900    1  296     15.3   \n",
       "1  0.02731   0.0   7.07     0  0.469  6.421  78.9  4.9671    2  242     17.8   \n",
       "2  0.02729   0.0   7.07     0  0.469  7.185  61.1  4.9671    2  242     17.8   \n",
       "3  0.03237   0.0   2.18     0  0.458  6.998  45.8  6.0622    3  222     18.7   \n",
       "4  0.06905   0.0   2.18     0  0.458  7.147  54.2  6.0622    3  222     18.7   \n",
       "\n",
       "        B  LSTAT  MEDV  \n",
       "0  396.90   4.98  24.0  \n",
       "1  396.90   9.14  21.6  \n",
       "2  392.83   4.03  34.7  \n",
       "3  394.63   2.94  33.4  \n",
       "4  396.90   5.33  36.2  "
      ]
     },
     "execution_count": 15,
     "metadata": {},
     "output_type": "execute_result"
    }
   ],
   "source": [
    "df.head()\n",
    "     "
   ]
  },
  {
   "cell_type": "code",
   "execution_count": 16,
   "id": "2a02f4c6",
   "metadata": {},
   "outputs": [
    {
     "data": {
      "text/html": [
       "<div>\n",
       "<style scoped>\n",
       "    .dataframe tbody tr th:only-of-type {\n",
       "        vertical-align: middle;\n",
       "    }\n",
       "\n",
       "    .dataframe tbody tr th {\n",
       "        vertical-align: top;\n",
       "    }\n",
       "\n",
       "    .dataframe thead th {\n",
       "        text-align: right;\n",
       "    }\n",
       "</style>\n",
       "<table border=\"1\" class=\"dataframe\">\n",
       "  <thead>\n",
       "    <tr style=\"text-align: right;\">\n",
       "      <th></th>\n",
       "      <th>CRIM</th>\n",
       "      <th>ZN</th>\n",
       "      <th>INDUS</th>\n",
       "      <th>CHAS</th>\n",
       "      <th>NOX</th>\n",
       "      <th>RM</th>\n",
       "      <th>AGE</th>\n",
       "      <th>DIS</th>\n",
       "      <th>RAD</th>\n",
       "      <th>TAX</th>\n",
       "      <th>PTRATIO</th>\n",
       "      <th>B</th>\n",
       "      <th>LSTAT</th>\n",
       "      <th>MEDV</th>\n",
       "    </tr>\n",
       "  </thead>\n",
       "  <tbody>\n",
       "    <tr>\n",
       "      <th>501</th>\n",
       "      <td>0.06263</td>\n",
       "      <td>0.0</td>\n",
       "      <td>11.93</td>\n",
       "      <td>0</td>\n",
       "      <td>0.573</td>\n",
       "      <td>6.593</td>\n",
       "      <td>69.1</td>\n",
       "      <td>2.4786</td>\n",
       "      <td>1</td>\n",
       "      <td>273</td>\n",
       "      <td>21.0</td>\n",
       "      <td>391.99</td>\n",
       "      <td>9.67</td>\n",
       "      <td>22.4</td>\n",
       "    </tr>\n",
       "    <tr>\n",
       "      <th>502</th>\n",
       "      <td>0.04527</td>\n",
       "      <td>0.0</td>\n",
       "      <td>11.93</td>\n",
       "      <td>0</td>\n",
       "      <td>0.573</td>\n",
       "      <td>6.120</td>\n",
       "      <td>76.7</td>\n",
       "      <td>2.2875</td>\n",
       "      <td>1</td>\n",
       "      <td>273</td>\n",
       "      <td>21.0</td>\n",
       "      <td>396.90</td>\n",
       "      <td>9.08</td>\n",
       "      <td>20.6</td>\n",
       "    </tr>\n",
       "    <tr>\n",
       "      <th>503</th>\n",
       "      <td>0.06076</td>\n",
       "      <td>0.0</td>\n",
       "      <td>11.93</td>\n",
       "      <td>0</td>\n",
       "      <td>0.573</td>\n",
       "      <td>6.976</td>\n",
       "      <td>91.0</td>\n",
       "      <td>2.1675</td>\n",
       "      <td>1</td>\n",
       "      <td>273</td>\n",
       "      <td>21.0</td>\n",
       "      <td>396.90</td>\n",
       "      <td>5.64</td>\n",
       "      <td>23.9</td>\n",
       "    </tr>\n",
       "    <tr>\n",
       "      <th>504</th>\n",
       "      <td>0.10959</td>\n",
       "      <td>0.0</td>\n",
       "      <td>11.93</td>\n",
       "      <td>0</td>\n",
       "      <td>0.573</td>\n",
       "      <td>6.794</td>\n",
       "      <td>89.3</td>\n",
       "      <td>2.3889</td>\n",
       "      <td>1</td>\n",
       "      <td>273</td>\n",
       "      <td>21.0</td>\n",
       "      <td>393.45</td>\n",
       "      <td>6.48</td>\n",
       "      <td>22.0</td>\n",
       "    </tr>\n",
       "    <tr>\n",
       "      <th>505</th>\n",
       "      <td>0.04741</td>\n",
       "      <td>0.0</td>\n",
       "      <td>11.93</td>\n",
       "      <td>0</td>\n",
       "      <td>0.573</td>\n",
       "      <td>6.030</td>\n",
       "      <td>80.8</td>\n",
       "      <td>2.5050</td>\n",
       "      <td>1</td>\n",
       "      <td>273</td>\n",
       "      <td>21.0</td>\n",
       "      <td>396.90</td>\n",
       "      <td>7.88</td>\n",
       "      <td>11.9</td>\n",
       "    </tr>\n",
       "  </tbody>\n",
       "</table>\n",
       "</div>"
      ],
      "text/plain": [
       "        CRIM   ZN  INDUS  CHAS    NOX     RM   AGE     DIS  RAD  TAX  PTRATIO  \\\n",
       "501  0.06263  0.0  11.93     0  0.573  6.593  69.1  2.4786    1  273     21.0   \n",
       "502  0.04527  0.0  11.93     0  0.573  6.120  76.7  2.2875    1  273     21.0   \n",
       "503  0.06076  0.0  11.93     0  0.573  6.976  91.0  2.1675    1  273     21.0   \n",
       "504  0.10959  0.0  11.93     0  0.573  6.794  89.3  2.3889    1  273     21.0   \n",
       "505  0.04741  0.0  11.93     0  0.573  6.030  80.8  2.5050    1  273     21.0   \n",
       "\n",
       "          B  LSTAT  MEDV  \n",
       "501  391.99   9.67  22.4  \n",
       "502  396.90   9.08  20.6  \n",
       "503  396.90   5.64  23.9  \n",
       "504  393.45   6.48  22.0  \n",
       "505  396.90   7.88  11.9  "
      ]
     },
     "execution_count": 16,
     "metadata": {},
     "output_type": "execute_result"
    }
   ],
   "source": [
    "df.tail()"
   ]
  },
  {
   "cell_type": "code",
   "execution_count": 17,
   "id": "b437dba8",
   "metadata": {},
   "outputs": [
    {
     "data": {
      "text/plain": [
       "(506, 14)"
      ]
     },
     "execution_count": 17,
     "metadata": {},
     "output_type": "execute_result"
    }
   ],
   "source": [
    "df.shape"
   ]
  },
  {
   "cell_type": "code",
   "execution_count": 18,
   "id": "be21fbeb",
   "metadata": {},
   "outputs": [
    {
     "data": {
      "text/plain": [
       "CRIM       0\n",
       "ZN         0\n",
       "INDUS      0\n",
       "CHAS       0\n",
       "NOX        0\n",
       "RM         0\n",
       "AGE        0\n",
       "DIS        0\n",
       "RAD        0\n",
       "TAX        0\n",
       "PTRATIO    0\n",
       "B          0\n",
       "LSTAT      0\n",
       "MEDV       0\n",
       "dtype: int64"
      ]
     },
     "execution_count": 18,
     "metadata": {},
     "output_type": "execute_result"
    }
   ],
   "source": [
    "df.isnull().sum()"
   ]
  },
  {
   "cell_type": "code",
   "execution_count": 19,
   "id": "c06eba8b",
   "metadata": {},
   "outputs": [
    {
     "name": "stdout",
     "output_type": "stream",
     "text": [
      "<class 'pandas.core.frame.DataFrame'>\n",
      "RangeIndex: 506 entries, 0 to 505\n",
      "Data columns (total 14 columns):\n",
      " #   Column   Non-Null Count  Dtype  \n",
      "---  ------   --------------  -----  \n",
      " 0   CRIM     506 non-null    float64\n",
      " 1   ZN       506 non-null    float64\n",
      " 2   INDUS    506 non-null    float64\n",
      " 3   CHAS     506 non-null    int64  \n",
      " 4   NOX      506 non-null    float64\n",
      " 5   RM       506 non-null    float64\n",
      " 6   AGE      506 non-null    float64\n",
      " 7   DIS      506 non-null    float64\n",
      " 8   RAD      506 non-null    int64  \n",
      " 9   TAX      506 non-null    int64  \n",
      " 10  PTRATIO  506 non-null    float64\n",
      " 11  B        506 non-null    float64\n",
      " 12  LSTAT    506 non-null    float64\n",
      " 13  MEDV     506 non-null    float64\n",
      "dtypes: float64(11), int64(3)\n",
      "memory usage: 55.5 KB\n"
     ]
    }
   ],
   "source": [
    "df.info()"
   ]
  },
  {
   "cell_type": "code",
   "execution_count": 20,
   "id": "7b723ab9",
   "metadata": {},
   "outputs": [
    {
     "data": {
      "text/html": [
       "<div>\n",
       "<style scoped>\n",
       "    .dataframe tbody tr th:only-of-type {\n",
       "        vertical-align: middle;\n",
       "    }\n",
       "\n",
       "    .dataframe tbody tr th {\n",
       "        vertical-align: top;\n",
       "    }\n",
       "\n",
       "    .dataframe thead th {\n",
       "        text-align: right;\n",
       "    }\n",
       "</style>\n",
       "<table border=\"1\" class=\"dataframe\">\n",
       "  <thead>\n",
       "    <tr style=\"text-align: right;\">\n",
       "      <th></th>\n",
       "      <th>CRIM</th>\n",
       "      <th>ZN</th>\n",
       "      <th>INDUS</th>\n",
       "      <th>CHAS</th>\n",
       "      <th>NOX</th>\n",
       "      <th>RM</th>\n",
       "      <th>AGE</th>\n",
       "      <th>DIS</th>\n",
       "      <th>RAD</th>\n",
       "      <th>TAX</th>\n",
       "      <th>PTRATIO</th>\n",
       "      <th>B</th>\n",
       "      <th>LSTAT</th>\n",
       "      <th>MEDV</th>\n",
       "    </tr>\n",
       "  </thead>\n",
       "  <tbody>\n",
       "    <tr>\n",
       "      <th>count</th>\n",
       "      <td>506.000000</td>\n",
       "      <td>506.000000</td>\n",
       "      <td>506.000000</td>\n",
       "      <td>506.000000</td>\n",
       "      <td>506.000000</td>\n",
       "      <td>506.000000</td>\n",
       "      <td>506.000000</td>\n",
       "      <td>506.000000</td>\n",
       "      <td>506.000000</td>\n",
       "      <td>506.000000</td>\n",
       "      <td>506.000000</td>\n",
       "      <td>506.000000</td>\n",
       "      <td>506.000000</td>\n",
       "      <td>506.000000</td>\n",
       "    </tr>\n",
       "    <tr>\n",
       "      <th>mean</th>\n",
       "      <td>3.613524</td>\n",
       "      <td>11.363636</td>\n",
       "      <td>11.136779</td>\n",
       "      <td>0.069170</td>\n",
       "      <td>0.554695</td>\n",
       "      <td>6.284634</td>\n",
       "      <td>68.574901</td>\n",
       "      <td>3.795043</td>\n",
       "      <td>9.549407</td>\n",
       "      <td>408.237154</td>\n",
       "      <td>18.455534</td>\n",
       "      <td>356.674032</td>\n",
       "      <td>12.653063</td>\n",
       "      <td>22.532806</td>\n",
       "    </tr>\n",
       "    <tr>\n",
       "      <th>std</th>\n",
       "      <td>8.601545</td>\n",
       "      <td>23.322453</td>\n",
       "      <td>6.860353</td>\n",
       "      <td>0.253994</td>\n",
       "      <td>0.115878</td>\n",
       "      <td>0.702617</td>\n",
       "      <td>28.148861</td>\n",
       "      <td>2.105710</td>\n",
       "      <td>8.707259</td>\n",
       "      <td>168.537116</td>\n",
       "      <td>2.164946</td>\n",
       "      <td>91.294864</td>\n",
       "      <td>7.141062</td>\n",
       "      <td>9.197104</td>\n",
       "    </tr>\n",
       "    <tr>\n",
       "      <th>min</th>\n",
       "      <td>0.006320</td>\n",
       "      <td>0.000000</td>\n",
       "      <td>0.460000</td>\n",
       "      <td>0.000000</td>\n",
       "      <td>0.385000</td>\n",
       "      <td>3.561000</td>\n",
       "      <td>2.900000</td>\n",
       "      <td>1.129600</td>\n",
       "      <td>1.000000</td>\n",
       "      <td>187.000000</td>\n",
       "      <td>12.600000</td>\n",
       "      <td>0.320000</td>\n",
       "      <td>1.730000</td>\n",
       "      <td>5.000000</td>\n",
       "    </tr>\n",
       "    <tr>\n",
       "      <th>25%</th>\n",
       "      <td>0.082045</td>\n",
       "      <td>0.000000</td>\n",
       "      <td>5.190000</td>\n",
       "      <td>0.000000</td>\n",
       "      <td>0.449000</td>\n",
       "      <td>5.885500</td>\n",
       "      <td>45.025000</td>\n",
       "      <td>2.100175</td>\n",
       "      <td>4.000000</td>\n",
       "      <td>279.000000</td>\n",
       "      <td>17.400000</td>\n",
       "      <td>375.377500</td>\n",
       "      <td>6.950000</td>\n",
       "      <td>17.025000</td>\n",
       "    </tr>\n",
       "    <tr>\n",
       "      <th>50%</th>\n",
       "      <td>0.256510</td>\n",
       "      <td>0.000000</td>\n",
       "      <td>9.690000</td>\n",
       "      <td>0.000000</td>\n",
       "      <td>0.538000</td>\n",
       "      <td>6.208500</td>\n",
       "      <td>77.500000</td>\n",
       "      <td>3.207450</td>\n",
       "      <td>5.000000</td>\n",
       "      <td>330.000000</td>\n",
       "      <td>19.050000</td>\n",
       "      <td>391.440000</td>\n",
       "      <td>11.360000</td>\n",
       "      <td>21.200000</td>\n",
       "    </tr>\n",
       "    <tr>\n",
       "      <th>75%</th>\n",
       "      <td>3.677083</td>\n",
       "      <td>12.500000</td>\n",
       "      <td>18.100000</td>\n",
       "      <td>0.000000</td>\n",
       "      <td>0.624000</td>\n",
       "      <td>6.623500</td>\n",
       "      <td>94.075000</td>\n",
       "      <td>5.188425</td>\n",
       "      <td>24.000000</td>\n",
       "      <td>666.000000</td>\n",
       "      <td>20.200000</td>\n",
       "      <td>396.225000</td>\n",
       "      <td>16.955000</td>\n",
       "      <td>25.000000</td>\n",
       "    </tr>\n",
       "    <tr>\n",
       "      <th>max</th>\n",
       "      <td>88.976200</td>\n",
       "      <td>100.000000</td>\n",
       "      <td>27.740000</td>\n",
       "      <td>1.000000</td>\n",
       "      <td>0.871000</td>\n",
       "      <td>8.780000</td>\n",
       "      <td>100.000000</td>\n",
       "      <td>12.126500</td>\n",
       "      <td>24.000000</td>\n",
       "      <td>711.000000</td>\n",
       "      <td>22.000000</td>\n",
       "      <td>396.900000</td>\n",
       "      <td>37.970000</td>\n",
       "      <td>50.000000</td>\n",
       "    </tr>\n",
       "  </tbody>\n",
       "</table>\n",
       "</div>"
      ],
      "text/plain": [
       "             CRIM          ZN       INDUS        CHAS         NOX          RM  \\\n",
       "count  506.000000  506.000000  506.000000  506.000000  506.000000  506.000000   \n",
       "mean     3.613524   11.363636   11.136779    0.069170    0.554695    6.284634   \n",
       "std      8.601545   23.322453    6.860353    0.253994    0.115878    0.702617   \n",
       "min      0.006320    0.000000    0.460000    0.000000    0.385000    3.561000   \n",
       "25%      0.082045    0.000000    5.190000    0.000000    0.449000    5.885500   \n",
       "50%      0.256510    0.000000    9.690000    0.000000    0.538000    6.208500   \n",
       "75%      3.677083   12.500000   18.100000    0.000000    0.624000    6.623500   \n",
       "max     88.976200  100.000000   27.740000    1.000000    0.871000    8.780000   \n",
       "\n",
       "              AGE         DIS         RAD         TAX     PTRATIO           B  \\\n",
       "count  506.000000  506.000000  506.000000  506.000000  506.000000  506.000000   \n",
       "mean    68.574901    3.795043    9.549407  408.237154   18.455534  356.674032   \n",
       "std     28.148861    2.105710    8.707259  168.537116    2.164946   91.294864   \n",
       "min      2.900000    1.129600    1.000000  187.000000   12.600000    0.320000   \n",
       "25%     45.025000    2.100175    4.000000  279.000000   17.400000  375.377500   \n",
       "50%     77.500000    3.207450    5.000000  330.000000   19.050000  391.440000   \n",
       "75%     94.075000    5.188425   24.000000  666.000000   20.200000  396.225000   \n",
       "max    100.000000   12.126500   24.000000  711.000000   22.000000  396.900000   \n",
       "\n",
       "            LSTAT        MEDV  \n",
       "count  506.000000  506.000000  \n",
       "mean    12.653063   22.532806  \n",
       "std      7.141062    9.197104  \n",
       "min      1.730000    5.000000  \n",
       "25%      6.950000   17.025000  \n",
       "50%     11.360000   21.200000  \n",
       "75%     16.955000   25.000000  \n",
       "max     37.970000   50.000000  "
      ]
     },
     "execution_count": 20,
     "metadata": {},
     "output_type": "execute_result"
    }
   ],
   "source": [
    "df.describe()"
   ]
  },
  {
   "cell_type": "markdown",
   "id": "095bd415",
   "metadata": {},
   "source": [
    "## EDA Analysis"
   ]
  },
  {
   "cell_type": "code",
   "execution_count": 21,
   "id": "e4656e50",
   "metadata": {},
   "outputs": [
    {
     "data": {
      "text/plain": [
       "<AxesSubplot:xlabel='MEDV', ylabel='Density'>"
      ]
     },
     "execution_count": 21,
     "metadata": {},
     "output_type": "execute_result"
    },
    {
     "data": {
      "image/png": "[encoded data removed]",
      "text/plain": [
       "<Figure size 432x288 with 1 Axes>"
      ]
     },
     "metadata": {
      "needs_background": "light"
     },
     "output_type": "display_data"
    }
   ],
   "source": [
    "sns.distplot(df['MEDV'])"
   ]
  },
  {
   "cell_type": "code",
   "execution_count": 23,
   "id": "4ca58348",
   "metadata": {},
   "outputs": [
    {
     "data": {
      "text/plain": [
       "<seaborn.axisgrid.FacetGrid at 0x22c2e89d2e0>"
      ]
     },
     "execution_count": 23,
     "metadata": {},
     "output_type": "execute_result"
    },
    {
     "data": {
      "image/png": "[encoded data removed]",
      "text/plain": [
       "<Figure size 360x360 with 1 Axes>"
      ]
     },
     "metadata": {
      "needs_background": "light"
     },
     "output_type": "display_data"
    },
    {
     "data": {
      "image/png": "[encoded data removed]",
      "text/plain": [
       "<Figure size 360x360 with 1 Axes>"
      ]
     },
     "metadata": {
      "needs_background": "light"
     },
     "output_type": "display_data"
    }
   ],
   "source": [
    "sns.displot(data=df, x='AGE', kind='kde')\n",
    "sns.displot(data=df, x='MEDV', kind='kde')"
   ]
  },
  {
   "cell_type": "code",
   "execution_count": 24,
   "id": "18cb2949",
   "metadata": {},
   "outputs": [
    {
     "data": {
      "text/plain": [
       "<AxesSubplot:>"
      ]
     },
     "execution_count": 24,
     "metadata": {},
     "output_type": "execute_result"
    },
    {
     "data": {
      "image/png": "[encoded data removed]",
      "text/plain": [
       "<Figure size 432x288 with 2 Axes>"
      ]
     },
     "metadata": {
      "needs_background": "light"
     },
     "output_type": "display_data"
    }
   ],
   "source": [
    "sns.heatmap(df.iloc[:,1:].corr())"
   ]
  },
  {
   "cell_type": "code",
   "execution_count": 27,
   "id": "15eb5034",
   "metadata": {},
   "outputs": [
    {
     "data": {
      "text/plain": [
       "<AxesSubplot:xlabel='MEDV', ylabel='RM'>"
      ]
     },
     "execution_count": 27,
     "metadata": {},
     "output_type": "execute_result"
    },
    {
     "data": {
      "image/png": "[encoded data removed]",
      "text/plain": [
       "<Figure size 576x360 with 2 Axes>"
      ]
     },
     "metadata": {
      "needs_background": "light"
     },
     "output_type": "display_data"
    }
   ],
   "source": [
    "plt.figure(1, figsize=(8,5))\n",
    "plt.subplot(1, 2, 1)\n",
    "sns.scatterplot(data=df, x='MEDV', y='LSTAT')\n",
    "plt.subplot(1, 2, 2)\n",
    "sns.scatterplot(data=df, x='MEDV', y='RM')"
   ]
  },
  {
   "cell_type": "code",
   "execution_count": 28,
   "id": "b0a38026",
   "metadata": {},
   "outputs": [
    {
     "data": {
      "text/plain": [
       "<AxesSubplot:xlabel='LSTAT'>"
      ]
     },
     "execution_count": 28,
     "metadata": {},
     "output_type": "execute_result"
    },
    {
     "data": {
      "image/png": "[encoded data removed]",
      "text/plain": [
       "<Figure size 576x720 with 2 Axes>"
      ]
     },
     "metadata": {
      "needs_background": "light"
     },
     "output_type": "display_data"
    }
   ],
   "source": [
    "plt.figure(1, (8, 10))\n",
    "plt.subplot(2, 1, 1)\n",
    "sns.boxplot(data=df, x='RM')\n",
    "plt.subplot(2, 1, 2)\n",
    "sns.boxplot(data=df, x='LSTAT')"
   ]
  },
  {
   "cell_type": "markdown",
   "id": "182d218a",
   "metadata": {},
   "source": [
    "## Handling Outliers With Capping"
   ]
  },
  {
   "cell_type": "markdown",
   "id": "732740c4",
   "metadata": {},
   "source": [
    "## For RM"
   ]
  },
  {
   "cell_type": "code",
   "execution_count": 29,
   "id": "1ba530df",
   "metadata": {},
   "outputs": [
    {
     "name": "stdout",
     "output_type": "stream",
     "text": [
      "Q1 is 5.8854999999999995 || and Q3 is 6.6235\n",
      "IQR is : 0.7380000000000004\n",
      "Lower Limit is 4.778499999999999 and Upper Limit is 7.730500000000001\n"
     ]
    }
   ],
   "source": [
    "Q1, Q3 = np.percentile(df['RM'], [25, 75])\n",
    "print(f\"Q1 is {Q1} || and Q3 is {Q3}\")\n",
    "IQR = Q3 - Q1\n",
    "print(f\"IQR is : {IQR}\")\n",
    "upper_limit = Q3 + 1.5 * IQR\n",
    "lower_limit = Q1 - 1.5 * IQR\n",
    "print(f\"Lower Limit is {lower_limit} and Upper Limit is {upper_limit}\")"
   ]
  },
  {
   "cell_type": "code",
   "execution_count": 30,
   "id": "4bc311e0",
   "metadata": {},
   "outputs": [
    {
     "name": "stdout",
     "output_type": "stream",
     "text": [
      "Outliers in RM column are [8.069, 7.82, 7.802, 8.375, 7.929, 7.765, 7.831, 7.875, 7.853, 8.034, 8.266, 8.725, 8.04, 8.337, 8.247, 8.259, 8.704, 8.398, 8.297, 7.82, 7.923, 8.78, 3.561, 3.863, 4.138, 4.368, 4.652, 4.138, 4.628, 4.519]\n"
     ]
    }
   ],
   "source": [
    "outliers_RM = [outlier for outlier in df['RM'] if outlier > upper_limit or outlier < lower_limit]\n",
    "print(f\"Outliers in RM column are {outliers_RM}\")"
   ]
  },
  {
   "cell_type": "code",
   "execution_count": 33,
   "id": "25d8d052",
   "metadata": {},
   "outputs": [],
   "source": [
    "df['RM'] = np.where(df['RM'] > upper_limit, upper_limit, np.where(df['RM'] < lower_limit, lower_limit, df['RM']))"
   ]
  },
  {
   "cell_type": "code",
   "execution_count": 34,
   "id": "3b2e9e50",
   "metadata": {},
   "outputs": [
    {
     "data": {
      "text/plain": [
       "<AxesSubplot:xlabel='RM'>"
      ]
     },
     "execution_count": 34,
     "metadata": {},
     "output_type": "execute_result"
    },
    {
     "data": {
      "image/png": "[encoded data removed]",
      "text/plain": [
       "<Figure size 432x288 with 1 Axes>"
      ]
     },
     "metadata": {
      "needs_background": "light"
     },
     "output_type": "display_data"
    }
   ],
   "source": [
    "sns.boxplot(data=df, x='RM')"
   ]
  },
  {
   "cell_type": "markdown",
   "id": "f5fe16aa",
   "metadata": {},
   "source": [
    "## For ISTAT"
   ]
  },
  {
   "cell_type": "code",
   "execution_count": 36,
   "id": "a7e49ef4",
   "metadata": {},
   "outputs": [
    {
     "name": "stdout",
     "output_type": "stream",
     "text": [
      "Q1 is 6.949999999999999 || and Q3 is 16.955000000000002\n",
      "IQR is : 10.005000000000003\n",
      "Lower Limit is -8.057500000000005 and Upper Limit is 31.962500000000006\n"
     ]
    }
   ],
   "source": [
    "Q1, Q3 = np.percentile(df['LSTAT'], [25, 75])\n",
    "print(f\"Q1 is {Q1} || and Q3 is {Q3}\")\n",
    "IQR = Q3 - Q1\n",
    "print(f\"IQR is : {IQR}\")\n",
    "upper_limit = Q3 + 1.5 * IQR\n",
    "lower_limit = Q1 - 1.5 * IQR\n",
    "print(f\"Lower Limit is {lower_limit} and Upper Limit is {upper_limit}\")"
   ]
  },
  {
   "cell_type": "code",
   "execution_count": 39,
   "id": "4972a462",
   "metadata": {},
   "outputs": [
    {
     "name": "stdout",
     "output_type": "stream",
     "text": [
      "Outliers in lstat column are [34.41, 34.77, 37.97, 31.99, 34.37, 36.98, 34.02]\n"
     ]
    }
   ],
   "source": [
    "outliers_RM = [outlier for outlier in df['LSTAT'] if outlier > upper_limit or outlier < lower_limit]\n",
    "print(f\"Outliers in lstat column are {outliers_RM}\")"
   ]
  },
  {
   "cell_type": "code",
   "execution_count": 41,
   "id": "1e28f7d5",
   "metadata": {},
   "outputs": [],
   "source": [
    "df['LSTAT'] = np.where(df['LSTAT'] > upper_limit, upper_limit, np.where(df['LSTAT'] < lower_limit, lower_limit, df['LSTAT']))"
   ]
  },
  {
   "cell_type": "code",
   "execution_count": 42,
   "id": "60edcec7",
   "metadata": {},
   "outputs": [
    {
     "data": {
      "text/plain": [
       "<AxesSubplot:xlabel='LSTAT'>"
      ]
     },
     "execution_count": 42,
     "metadata": {},
     "output_type": "execute_result"
    },
    {
     "data": {
      "image/png": "[encoded data removed]",
      "text/plain": [
       "<Figure size 432x288 with 1 Axes>"
      ]
     },
     "metadata": {
      "needs_background": "light"
     },
     "output_type": "display_data"
    }
   ],
   "source": [
    "sns.boxplot(data=df, x='LSTAT')"
   ]
  },
  {
   "cell_type": "markdown",
   "id": "6c20f2df",
   "metadata": {},
   "source": [
    "## Preparing Data For Training"
   ]
  },
  {
   "cell_type": "code",
   "execution_count": 43,
   "id": "c9a3c114",
   "metadata": {},
   "outputs": [],
   "source": [
    "x = pd.DataFrame(np.c_[df['LSTAT'], df['RM']], columns=['LSTAT', 'RM'])\n",
    "y = df['MEDV']"
   ]
  },
  {
   "cell_type": "code",
   "execution_count": 44,
   "id": "86c52716",
   "metadata": {},
   "outputs": [
    {
     "data": {
      "text/html": [
       "<div>\n",
       "<style scoped>\n",
       "    .dataframe tbody tr th:only-of-type {\n",
       "        vertical-align: middle;\n",
       "    }\n",
       "\n",
       "    .dataframe tbody tr th {\n",
       "        vertical-align: top;\n",
       "    }\n",
       "\n",
       "    .dataframe thead th {\n",
       "        text-align: right;\n",
       "    }\n",
       "</style>\n",
       "<table border=\"1\" class=\"dataframe\">\n",
       "  <thead>\n",
       "    <tr style=\"text-align: right;\">\n",
       "      <th></th>\n",
       "      <th>LSTAT</th>\n",
       "      <th>RM</th>\n",
       "    </tr>\n",
       "  </thead>\n",
       "  <tbody>\n",
       "    <tr>\n",
       "      <th>0</th>\n",
       "      <td>4.98</td>\n",
       "      <td>6.575</td>\n",
       "    </tr>\n",
       "    <tr>\n",
       "      <th>1</th>\n",
       "      <td>9.14</td>\n",
       "      <td>6.421</td>\n",
       "    </tr>\n",
       "    <tr>\n",
       "      <th>2</th>\n",
       "      <td>4.03</td>\n",
       "      <td>7.185</td>\n",
       "    </tr>\n",
       "    <tr>\n",
       "      <th>3</th>\n",
       "      <td>2.94</td>\n",
       "      <td>6.998</td>\n",
       "    </tr>\n",
       "    <tr>\n",
       "      <th>4</th>\n",
       "      <td>5.33</td>\n",
       "      <td>7.147</td>\n",
       "    </tr>\n",
       "    <tr>\n",
       "      <th>...</th>\n",
       "      <td>...</td>\n",
       "      <td>...</td>\n",
       "    </tr>\n",
       "    <tr>\n",
       "      <th>501</th>\n",
       "      <td>9.67</td>\n",
       "      <td>6.593</td>\n",
       "    </tr>\n",
       "    <tr>\n",
       "      <th>502</th>\n",
       "      <td>9.08</td>\n",
       "      <td>6.120</td>\n",
       "    </tr>\n",
       "    <tr>\n",
       "      <th>503</th>\n",
       "      <td>5.64</td>\n",
       "      <td>6.976</td>\n",
       "    </tr>\n",
       "    <tr>\n",
       "      <th>504</th>\n",
       "      <td>6.48</td>\n",
       "      <td>6.794</td>\n",
       "    </tr>\n",
       "    <tr>\n",
       "      <th>505</th>\n",
       "      <td>7.88</td>\n",
       "      <td>6.030</td>\n",
       "    </tr>\n",
       "  </tbody>\n",
       "</table>\n",
       "<p>506 rows × 2 columns</p>\n",
       "</div>"
      ],
      "text/plain": [
       "     LSTAT     RM\n",
       "0     4.98  6.575\n",
       "1     9.14  6.421\n",
       "2     4.03  7.185\n",
       "3     2.94  6.998\n",
       "4     5.33  7.147\n",
       "..     ...    ...\n",
       "501   9.67  6.593\n",
       "502   9.08  6.120\n",
       "503   5.64  6.976\n",
       "504   6.48  6.794\n",
       "505   7.88  6.030\n",
       "\n",
       "[506 rows x 2 columns]"
      ]
     },
     "execution_count": 44,
     "metadata": {},
     "output_type": "execute_result"
    }
   ],
   "source": [
    "x"
   ]
  },
  {
   "cell_type": "code",
   "execution_count": 45,
   "id": "12723f58",
   "metadata": {},
   "outputs": [
    {
     "data": {
      "text/plain": [
       "0      24.0\n",
       "1      21.6\n",
       "2      34.7\n",
       "3      33.4\n",
       "4      36.2\n",
       "       ... \n",
       "501    22.4\n",
       "502    20.6\n",
       "503    23.9\n",
       "504    22.0\n",
       "505    11.9\n",
       "Name: MEDV, Length: 506, dtype: float64"
      ]
     },
     "execution_count": 45,
     "metadata": {},
     "output_type": "execute_result"
    }
   ],
   "source": [
    "y"
   ]
  },
  {
   "cell_type": "code",
   "execution_count": 47,
   "id": "b8930dbb",
   "metadata": {},
   "outputs": [],
   "source": [
    "from sklearn.model_selection import train_test_split\n",
    "x_train, x_test, y_train, y_test = train_test_split(x, y, test_size=0.2, random_state=5)"
   ]
  },
  {
   "cell_type": "code",
   "execution_count": 48,
   "id": "d847a7e9",
   "metadata": {},
   "outputs": [
    {
     "data": {
      "text/html": [
       "<div>\n",
       "<style scoped>\n",
       "    .dataframe tbody tr th:only-of-type {\n",
       "        vertical-align: middle;\n",
       "    }\n",
       "\n",
       "    .dataframe tbody tr th {\n",
       "        vertical-align: top;\n",
       "    }\n",
       "\n",
       "    .dataframe thead th {\n",
       "        text-align: right;\n",
       "    }\n",
       "</style>\n",
       "<table border=\"1\" class=\"dataframe\">\n",
       "  <thead>\n",
       "    <tr style=\"text-align: right;\">\n",
       "      <th></th>\n",
       "      <th>LSTAT</th>\n",
       "      <th>RM</th>\n",
       "    </tr>\n",
       "  </thead>\n",
       "  <tbody>\n",
       "    <tr>\n",
       "      <th>33</th>\n",
       "      <td>18.35</td>\n",
       "      <td>5.7010</td>\n",
       "    </tr>\n",
       "    <tr>\n",
       "      <th>283</th>\n",
       "      <td>3.16</td>\n",
       "      <td>7.7305</td>\n",
       "    </tr>\n",
       "    <tr>\n",
       "      <th>418</th>\n",
       "      <td>20.62</td>\n",
       "      <td>5.9570</td>\n",
       "    </tr>\n",
       "    <tr>\n",
       "      <th>502</th>\n",
       "      <td>9.08</td>\n",
       "      <td>6.1200</td>\n",
       "    </tr>\n",
       "    <tr>\n",
       "      <th>402</th>\n",
       "      <td>20.31</td>\n",
       "      <td>6.4040</td>\n",
       "    </tr>\n",
       "    <tr>\n",
       "      <th>...</th>\n",
       "      <td>...</td>\n",
       "      <td>...</td>\n",
       "    </tr>\n",
       "    <tr>\n",
       "      <th>486</th>\n",
       "      <td>14.98</td>\n",
       "      <td>6.1140</td>\n",
       "    </tr>\n",
       "    <tr>\n",
       "      <th>189</th>\n",
       "      <td>5.39</td>\n",
       "      <td>7.1850</td>\n",
       "    </tr>\n",
       "    <tr>\n",
       "      <th>495</th>\n",
       "      <td>17.60</td>\n",
       "      <td>5.6700</td>\n",
       "    </tr>\n",
       "    <tr>\n",
       "      <th>206</th>\n",
       "      <td>10.97</td>\n",
       "      <td>6.3260</td>\n",
       "    </tr>\n",
       "    <tr>\n",
       "      <th>355</th>\n",
       "      <td>5.57</td>\n",
       "      <td>5.9360</td>\n",
       "    </tr>\n",
       "  </tbody>\n",
       "</table>\n",
       "<p>404 rows × 2 columns</p>\n",
       "</div>"
      ],
      "text/plain": [
       "     LSTAT      RM\n",
       "33   18.35  5.7010\n",
       "283   3.16  7.7305\n",
       "418  20.62  5.9570\n",
       "502   9.08  6.1200\n",
       "402  20.31  6.4040\n",
       "..     ...     ...\n",
       "486  14.98  6.1140\n",
       "189   5.39  7.1850\n",
       "495  17.60  5.6700\n",
       "206  10.97  6.3260\n",
       "355   5.57  5.9360\n",
       "\n",
       "[404 rows x 2 columns]"
      ]
     },
     "execution_count": 48,
     "metadata": {},
     "output_type": "execute_result"
    }
   ],
   "source": [
    "x_train"
   ]
  },
  {
   "cell_type": "code",
   "execution_count": 49,
   "id": "51046a93",
   "metadata": {},
   "outputs": [
    {
     "data": {
      "text/plain": [
       "(404, 2)"
      ]
     },
     "execution_count": 49,
     "metadata": {},
     "output_type": "execute_result"
    }
   ],
   "source": [
    "x_train.shape"
   ]
  },
  {
   "cell_type": "code",
   "execution_count": 50,
   "id": "5c41dc63",
   "metadata": {},
   "outputs": [
    {
     "data": {
      "text/plain": [
       "(102, 2)"
      ]
     },
     "execution_count": 50,
     "metadata": {},
     "output_type": "execute_result"
    }
   ],
   "source": [
    "x_test.shape"
   ]
  },
  {
   "cell_type": "code",
   "execution_count": 51,
   "id": "37888e6c",
   "metadata": {},
   "outputs": [
    {
     "data": {
      "text/plain": [
       "(404,)"
      ]
     },
     "execution_count": 51,
     "metadata": {},
     "output_type": "execute_result"
    }
   ],
   "source": [
    "y_train.shape"
   ]
  },
  {
   "cell_type": "code",
   "execution_count": 52,
   "id": "8bc1db05",
   "metadata": {},
   "outputs": [
    {
     "data": {
      "text/plain": [
       "(102,)"
      ]
     },
     "execution_count": 52,
     "metadata": {},
     "output_type": "execute_result"
    }
   ],
   "source": [
    "y_test.shape"
   ]
  },
  {
   "cell_type": "markdown",
   "id": "7aac2553",
   "metadata": {},
   "source": [
    "## Training And Testing Model"
   ]
  },
  {
   "cell_type": "markdown",
   "id": "fe91347e",
   "metadata": {},
   "source": [
    "## Linear Regression"
   ]
  },
  {
   "cell_type": "code",
   "execution_count": 53,
   "id": "d74b2266",
   "metadata": {},
   "outputs": [],
   "source": [
    "from sklearn.linear_model import LinearRegression"
   ]
  },
  {
   "cell_type": "code",
   "execution_count": 54,
   "id": "d0a252ed",
   "metadata": {},
   "outputs": [],
   "source": [
    "\n",
    "lr = LinearRegression()"
   ]
  },
  {
   "cell_type": "code",
   "execution_count": 55,
   "id": "04a50010",
   "metadata": {},
   "outputs": [
    {
     "data": {
      "text/plain": [
       "LinearRegression()"
      ]
     },
     "execution_count": 55,
     "metadata": {},
     "output_type": "execute_result"
    }
   ],
   "source": [
    "lr.fit(x_train, y_train)"
   ]
  },
  {
   "cell_type": "code",
   "execution_count": 56,
   "id": "3d243dd2",
   "metadata": {},
   "outputs": [],
   "source": [
    "prediction = lr.predict(x_test)"
   ]
  },
  {
   "cell_type": "code",
   "execution_count": 57,
   "id": "1d74b739",
   "metadata": {},
   "outputs": [
    {
     "data": {
      "text/plain": [
       "array([36.85129595, 30.00137218, 25.95719399,  1.55592843, 34.1816457 ,\n",
       "        7.42910001, 31.13110144, 28.10848315, 26.54423384, 22.09742154,\n",
       "       33.02868705, 23.04421696, 22.812277  , 31.56318657, 27.35840467,\n",
       "       20.49869804,  0.89223219, 17.49153059, 11.80494064, 21.59311314,\n",
       "        4.15954055, 24.07311643, 36.12994091, 24.66797285, 30.13570251,\n",
       "       12.32761019, 27.12934315, 22.39577025, 27.66692887, 29.17166549,\n",
       "       11.18099619,  9.90864916, 17.81313446, 25.37401523, 26.46320973,\n",
       "       23.01946251, 26.54978715, 12.11771179, 34.86578405, 33.99498282,\n",
       "       20.24877667,  2.14414548, 27.86768921, 16.37661411, 27.65849713,\n",
       "       30.27741652,  0.89223219, 17.06988215, 20.64339677, 13.72909883,\n",
       "       20.67656621, 21.37600272, 25.18243096, 16.05136622, 17.28652169,\n",
       "       27.95141558, 36.53704227, 19.8629194 , 29.12992002, 20.27996692,\n",
       "       19.98460904, 22.9621493 , 16.20333624, 31.7092448 , 22.54066191,\n",
       "       12.56998845, 23.5135104 , 25.86334077, 22.81929609, 21.40647602,\n",
       "       19.25667841, 26.44280562, 16.4367101 , 20.38665374, 19.37478942,\n",
       "       30.65434991, 19.12195772, 12.66106501, 28.95148371, 18.89682267,\n",
       "       22.07886295, 36.71559549, 15.60541909, 20.32685858, 21.65642928,\n",
       "       18.45795841, 17.0505641 ,  6.71968094, 17.67245336, 23.91118061,\n",
       "       35.9085349 , 20.01897693, 21.90745185, 19.36993631, 26.56982827,\n",
       "       28.96767887, 16.45078017, 30.75994617, 17.62524574, 14.76176084,\n",
       "       23.66780744, 25.53339019])"
      ]
     },
     "execution_count": 57,
     "metadata": {},
     "output_type": "execute_result"
    }
   ],
   "source": [
    "prediction"
   ]
  },
  {
   "cell_type": "code",
   "execution_count": 58,
   "id": "1414c4fd",
   "metadata": {},
   "outputs": [
    {
     "data": {
      "text/html": [
       "<div>\n",
       "<style scoped>\n",
       "    .dataframe tbody tr th:only-of-type {\n",
       "        vertical-align: middle;\n",
       "    }\n",
       "\n",
       "    .dataframe tbody tr th {\n",
       "        vertical-align: top;\n",
       "    }\n",
       "\n",
       "    .dataframe thead th {\n",
       "        text-align: right;\n",
       "    }\n",
       "</style>\n",
       "<table border=\"1\" class=\"dataframe\">\n",
       "  <thead>\n",
       "    <tr style=\"text-align: right;\">\n",
       "      <th></th>\n",
       "      <th>y_test</th>\n",
       "      <th>prediction</th>\n",
       "    </tr>\n",
       "  </thead>\n",
       "  <tbody>\n",
       "    <tr>\n",
       "      <th>226</th>\n",
       "      <td>37.6</td>\n",
       "      <td>36.851296</td>\n",
       "    </tr>\n",
       "    <tr>\n",
       "      <th>292</th>\n",
       "      <td>27.9</td>\n",
       "      <td>30.001372</td>\n",
       "    </tr>\n",
       "    <tr>\n",
       "      <th>90</th>\n",
       "      <td>22.6</td>\n",
       "      <td>25.957194</td>\n",
       "    </tr>\n",
       "    <tr>\n",
       "      <th>373</th>\n",
       "      <td>13.8</td>\n",
       "      <td>1.555928</td>\n",
       "    </tr>\n",
       "    <tr>\n",
       "      <th>273</th>\n",
       "      <td>35.2</td>\n",
       "      <td>34.181646</td>\n",
       "    </tr>\n",
       "    <tr>\n",
       "      <th>...</th>\n",
       "      <td>...</td>\n",
       "      <td>...</td>\n",
       "    </tr>\n",
       "    <tr>\n",
       "      <th>349</th>\n",
       "      <td>26.6</td>\n",
       "      <td>30.759946</td>\n",
       "    </tr>\n",
       "    <tr>\n",
       "      <th>212</th>\n",
       "      <td>22.4</td>\n",
       "      <td>17.625246</td>\n",
       "    </tr>\n",
       "    <tr>\n",
       "      <th>156</th>\n",
       "      <td>13.1</td>\n",
       "      <td>14.761761</td>\n",
       "    </tr>\n",
       "    <tr>\n",
       "      <th>480</th>\n",
       "      <td>23.0</td>\n",
       "      <td>23.667807</td>\n",
       "    </tr>\n",
       "    <tr>\n",
       "      <th>248</th>\n",
       "      <td>24.5</td>\n",
       "      <td>25.533390</td>\n",
       "    </tr>\n",
       "  </tbody>\n",
       "</table>\n",
       "<p>102 rows × 2 columns</p>\n",
       "</div>"
      ],
      "text/plain": [
       "     y_test  prediction\n",
       "226    37.6   36.851296\n",
       "292    27.9   30.001372\n",
       "90     22.6   25.957194\n",
       "373    13.8    1.555928\n",
       "273    35.2   34.181646\n",
       "..      ...         ...\n",
       "349    26.6   30.759946\n",
       "212    22.4   17.625246\n",
       "156    13.1   14.761761\n",
       "480    23.0   23.667807\n",
       "248    24.5   25.533390\n",
       "\n",
       "[102 rows x 2 columns]"
      ]
     },
     "execution_count": 58,
     "metadata": {},
     "output_type": "execute_result"
    }
   ],
   "source": [
    "predictionDec = {\"y_test\":y_test, \"prediction\":prediction}\n",
    "predictionData = pd.DataFrame(predictionDec)\n",
    "predictionData"
   ]
  },
  {
   "cell_type": "markdown",
   "id": "349a6821",
   "metadata": {},
   "source": [
    "## Model Evaluation"
   ]
  },
  {
   "cell_type": "code",
   "execution_count": 59,
   "id": "e9e1255e",
   "metadata": {},
   "outputs": [],
   "source": [
    "from sklearn.metrics import mean_squared_error, r2_score"
   ]
  },
  {
   "cell_type": "markdown",
   "id": "fe721b88",
   "metadata": {},
   "source": [
    "## Evaluation on training Data"
   ]
  },
  {
   "cell_type": "code",
   "execution_count": 60,
   "id": "62b03579",
   "metadata": {},
   "outputs": [],
   "source": [
    "predictionTrain = lr.predict(x_train)"
   ]
  },
  {
   "cell_type": "code",
   "execution_count": 61,
   "id": "e3ac7861",
   "metadata": {},
   "outputs": [],
   "source": [
    "mse = np.sqrt(mean_squared_error(y_train, predictionTrain))"
   ]
  },
  {
   "cell_type": "code",
   "execution_count": 62,
   "id": "35496aba",
   "metadata": {},
   "outputs": [],
   "source": [
    "r2Score = r2_score(y_train, predictionTrain)"
   ]
  },
  {
   "cell_type": "code",
   "execution_count": 63,
   "id": "ed6218b4",
   "metadata": {},
   "outputs": [
    {
     "name": "stdout",
     "output_type": "stream",
     "text": [
      "RMSE is 5.607590375264707 and R2 score is 0.6339412292469591\n"
     ]
    }
   ],
   "source": [
    "print(f\"RMSE is {mse} and R2 score is {r2Score}\")"
   ]
  },
  {
   "cell_type": "markdown",
   "id": "c76e4609",
   "metadata": {},
   "source": [
    "## Evaluation on Testing Data"
   ]
  },
  {
   "cell_type": "code",
   "execution_count": 64,
   "id": "a56cd65a",
   "metadata": {},
   "outputs": [],
   "source": [
    "predictionTest = lr.predict(x_test)"
   ]
  },
  {
   "cell_type": "code",
   "execution_count": 65,
   "id": "60e7809c",
   "metadata": {},
   "outputs": [],
   "source": [
    "mse = np.sqrt(mean_squared_error(y_test, predictionTest))"
   ]
  },
  {
   "cell_type": "code",
   "execution_count": 66,
   "id": "cf6f9dc3",
   "metadata": {},
   "outputs": [],
   "source": [
    "r2Score = r2_score(y_test, predictionTest)"
   ]
  },
  {
   "cell_type": "code",
   "execution_count": 67,
   "id": "84701a32",
   "metadata": {},
   "outputs": [
    {
     "name": "stdout",
     "output_type": "stream",
     "text": [
      "RMSE is 5.08894568403695 and R2 score is 0.6692286560410923\n"
     ]
    }
   ],
   "source": [
    "print(f\"RMSE is {mse} and R2 score is {r2Score}\")"
   ]
  },
  {
   "cell_type": "markdown",
   "id": "103e23d0",
   "metadata": {},
   "source": [
    "## Decision Tree"
   ]
  },
  {
   "cell_type": "code",
   "execution_count": 68,
   "id": "e7b2e8cd",
   "metadata": {},
   "outputs": [],
   "source": [
    "from sklearn.tree import DecisionTreeRegressor"
   ]
  },
  {
   "cell_type": "code",
   "execution_count": 69,
   "id": "d3a04a24",
   "metadata": {},
   "outputs": [
    {
     "data": {
      "text/plain": [
       "DecisionTreeRegressor(random_state=5)"
      ]
     },
     "execution_count": 69,
     "metadata": {},
     "output_type": "execute_result"
    }
   ],
   "source": [
    "dtr = DecisionTreeRegressor(random_state=5)\n",
    "dtr.fit(x_train, y_train)"
   ]
  },
  {
   "cell_type": "markdown",
   "id": "08b39e83",
   "metadata": {},
   "source": [
    "## Evaluation"
   ]
  },
  {
   "cell_type": "code",
   "execution_count": 70,
   "id": "120cbc6e",
   "metadata": {},
   "outputs": [],
   "source": [
    "predict = dtr.predict(x_train)"
   ]
  },
  {
   "cell_type": "code",
   "execution_count": 71,
   "id": "ef1241c7",
   "metadata": {},
   "outputs": [
    {
     "data": {
      "text/plain": [
       "0.0"
      ]
     },
     "execution_count": 71,
     "metadata": {},
     "output_type": "execute_result"
    }
   ],
   "source": [
    "mse = np.sqrt(mean_squared_error(y_train, predict))\n",
    "mse"
   ]
  },
  {
   "cell_type": "code",
   "execution_count": 72,
   "id": "2d3a9b2b",
   "metadata": {},
   "outputs": [
    {
     "data": {
      "text/plain": [
       "1.0"
      ]
     },
     "execution_count": 72,
     "metadata": {},
     "output_type": "execute_result"
    }
   ],
   "source": [
    "r2Score = r2_score(y_train, predict)\n",
    "r2Score\n",
    "     "
   ]
  },
  {
   "cell_type": "markdown",
   "id": "a1847b48",
   "metadata": {},
   "source": [
    "## Test"
   ]
  },
  {
   "cell_type": "code",
   "execution_count": 73,
   "id": "dfcfd9ef",
   "metadata": {},
   "outputs": [
    {
     "name": "stdout",
     "output_type": "stream",
     "text": [
      "RMSE is 6.1448448025201445 and R2 Score is 0.5177257392958079\n"
     ]
    }
   ],
   "source": [
    "predictTest = dtr.predict(x_test)\n",
    "rmse = np.sqrt(mean_squared_error(y_test, predictTest))\n",
    "r2Score = r2_score(y_test, predictTest)\n",
    "print(f\"RMSE is {rmse} and R2 Score is {r2Score}\")"
   ]
  },
  {
   "cell_type": "markdown",
   "id": "1eb8b7fe",
   "metadata": {},
   "source": [
    "## Plot Decision Tree"
   ]
  },
  {
   "cell_type": "code",
   "execution_count": 74,
   "id": "e1b93b72",
   "metadata": {},
   "outputs": [],
   "source": [
    "from sklearn.tree import plot_tree"
   ]
  },
  {
   "cell_type": "code",
   "execution_count": 75,
   "id": "0ace5f61",
   "metadata": {},
   "outputs": [
    {
     "data": {
      "text/plain": [
       "[Text(235.51235907203593, 212.71304347826086, 'X[1] <= 6.971\\nmse = 85.902\\nsamples = 404\\nvalue = 22.647'),\n",
       " Text(151.9417477054196, 203.2591304347826, 'X[0] <= 14.405\\nmse = 44.217\\nsamples = 348\\nvalue = 20.169'),\n",
       " Text(63.30793567228227, 193.80521739130435, 'X[0] <= 5.51\\nmse = 30.629\\nsamples = 209\\nvalue = 23.661'),\n",
       " Text(16.38881118881119, 184.3513043478261, 'X[1] <= 5.61\\nmse = 41.239\\nsamples = 30\\nvalue = 30.477'),\n",
       " Text(15.537444373808011, 174.89739130434782, 'mse = 0.0\\nsamples = 1\\nvalue = 50.0'),\n",
       " Text(17.240178003814368, 174.89739130434782, 'X[1] <= 6.659\\nmse = 29.064\\nsamples = 29\\nvalue = 29.803'),\n",
       " Text(10.216401780038144, 165.44347826086957, 'X[1] <= 6.492\\nmse = 9.558\\nsamples = 14\\nvalue = 26.586'),\n",
       " Text(6.38525111252384, 155.98956521739132, 'X[0] <= 5.2\\nmse = 4.011\\nsamples = 7\\nvalue = 24.971'),\n",
       " Text(4.2568340750158935, 146.53565217391304, 'X[1] <= 6.412\\nmse = 0.686\\nsamples = 5\\nvalue = 23.82'),\n",
       " Text(2.554100445009536, 137.08173913043478, 'X[0] <= 5.08\\nmse = 0.276\\nsamples = 3\\nvalue = 23.233'),\n",
       " Text(1.7027336300063574, 127.62782608695652, 'X[0] <= 4.82\\nmse = 0.25\\nsamples = 2\\nvalue = 23.0'),\n",
       " Text(0.8513668150031787, 118.17391304347825, 'mse = 0.0\\nsamples = 1\\nvalue = 23.5'),\n",
       " Text(2.554100445009536, 118.17391304347825, 'mse = 0.0\\nsamples = 1\\nvalue = 22.5'),\n",
       " Text(3.4054672600127147, 127.62782608695652, 'mse = -0.0\\nsamples = 1\\nvalue = 23.7'),\n",
       " Text(5.959567705022251, 137.08173913043478, 'X[1] <= 6.435\\nmse = 0.01\\nsamples = 2\\nvalue = 24.7'),\n",
       " Text(5.108200890019072, 127.62782608695652, 'mse = 0.0\\nsamples = 1\\nvalue = 24.6'),\n",
       " Text(6.810934520025429, 127.62782608695652, 'mse = 0.0\\nsamples = 1\\nvalue = 24.8'),\n",
       " Text(8.513668150031787, 146.53565217391304, 'X[1] <= 6.34\\nmse = 0.722\\nsamples = 2\\nvalue = 27.85'),\n",
       " Text(7.662301335028608, 137.08173913043478, 'mse = 0.0\\nsamples = 1\\nvalue = 27.0'),\n",
       " Text(9.365034965034965, 137.08173913043478, 'mse = -0.0\\nsamples = 1\\nvalue = 28.7'),\n",
       " Text(14.047552447552448, 155.98956521739132, 'X[1] <= 6.62\\nmse = 9.894\\nsamples = 7\\nvalue = 28.2'),\n",
       " Text(13.19618563254927, 146.53565217391304, 'X[0] <= 4.77\\nmse = 5.873\\nsamples = 6\\nvalue = 29.1'),\n",
       " Text(11.067768595041322, 137.08173913043478, 'X[0] <= 4.35\\nmse = 0.845\\nsamples = 4\\nvalue = 30.3'),\n",
       " Text(9.365034965034965, 127.62782608695652, 'X[0] <= 4.04\\nmse = 0.123\\nsamples = 2\\nvalue = 31.15'),\n",
       " Text(8.513668150031787, 118.17391304347825, 'mse = 0.0\\nsamples = 1\\nvalue = 31.5'),\n",
       " Text(10.216401780038144, 118.17391304347825, 'mse = 0.0\\nsamples = 1\\nvalue = 30.8'),\n",
       " Text(12.77050222504768, 127.62782608695652, 'X[1] <= 6.58\\nmse = 0.122\\nsamples = 2\\nvalue = 29.45'),\n",
       " Text(11.919135410044502, 118.17391304347825, 'mse = 0.0\\nsamples = 1\\nvalue = 29.8'),\n",
       " Text(13.621869040050859, 118.17391304347825, 'mse = -0.0\\nsamples = 1\\nvalue = 29.1'),\n",
       " Text(15.324602670057216, 137.08173913043478, 'X[0] <= 5.155\\nmse = 7.29\\nsamples = 2\\nvalue = 26.7'),\n",
       " Text(14.473235855054037, 127.62782608695652, 'mse = 0.0\\nsamples = 1\\nvalue = 24.0'),\n",
       " Text(16.175969485060396, 127.62782608695652, 'mse = 0.0\\nsamples = 1\\nvalue = 29.4'),\n",
       " Text(14.898919262555626, 146.53565217391304, 'mse = -0.0\\nsamples = 1\\nvalue = 22.8'),\n",
       " Text(24.26395422759059, 165.44347826086957, 'X[1] <= 6.705\\nmse = 28.587\\nsamples = 15\\nvalue = 32.807'),\n",
       " Text(23.412587412587413, 155.98956521739132, 'mse = 0.0\\nsamples = 1\\nvalue = 50.0'),\n",
       " Text(25.11532104259377, 155.98956521739132, 'X[1] <= 6.785\\nmse = 8.006\\nsamples = 14\\nvalue = 31.579'),\n",
       " Text(20.432803560076287, 146.53565217391304, 'X[0] <= 4.765\\nmse = 5.002\\nsamples = 4\\nvalue = 29.375'),\n",
       " Text(18.73006993006993, 137.08173913043478, 'X[0] <= 4.11\\nmse = 0.903\\nsamples = 2\\nvalue = 31.45'),\n",
       " Text(17.878703115066752, 127.62782608695652, 'mse = 0.0\\nsamples = 1\\nvalue = 32.4'),\n",
       " Text(19.58143674507311, 127.62782608695652, 'mse = 0.0\\nsamples = 1\\nvalue = 30.5'),\n",
       " Text(22.135537190082644, 137.08173913043478, 'X[1] <= 6.749\\nmse = 0.49\\nsamples = 2\\nvalue = 27.3'),\n",
       " Text(21.284170375079466, 127.62782608695652, 'mse = 0.0\\nsamples = 1\\nvalue = 28.0'),\n",
       " Text(22.986904005085826, 127.62782608695652, 'mse = -0.0\\nsamples = 1\\nvalue = 26.6'),\n",
       " Text(29.797838525111253, 146.53565217391304, 'X[0] <= 4.055\\nmse = 6.488\\nsamples = 10\\nvalue = 32.46'),\n",
       " Text(26.39237126509854, 137.08173913043478, 'X[1] <= 6.858\\nmse = 2.062\\nsamples = 4\\nvalue = 30.425'),\n",
       " Text(24.689637635092183, 127.62782608695652, 'X[1] <= 6.835\\nmse = 0.04\\nsamples = 2\\nvalue = 31.8'),\n",
       " Text(23.838270820089004, 118.17391304347825, 'mse = 0.0\\nsamples = 1\\nvalue = 31.6'),\n",
       " Text(25.54100445009536, 118.17391304347825, 'mse = -0.0\\nsamples = 1\\nvalue = 32.0'),\n",
       " Text(28.095104895104896, 127.62782608695652, 'X[0] <= 3.43\\nmse = 0.303\\nsamples = 2\\nvalue = 29.05'),\n",
       " Text(27.243738080101718, 118.17391304347825, 'mse = 0.0\\nsamples = 1\\nvalue = 28.5'),\n",
       " Text(28.946471710108074, 118.17391304347825, 'mse = 0.0\\nsamples = 1\\nvalue = 29.6'),\n",
       " Text(33.203305785123966, 137.08173913043478, 'X[1] <= 6.913\\nmse = 4.838\\nsamples = 6\\nvalue = 33.817'),\n",
       " Text(31.50057215511761, 127.62782608695652, 'X[1] <= 6.806\\nmse = 2.677\\nsamples = 4\\nvalue = 32.625'),\n",
       " Text(30.64920534011443, 118.17391304347825, 'mse = 0.0\\nsamples = 1\\nvalue = 31.1'),\n",
       " Text(32.35193897012079, 118.17391304347825, 'X[1] <= 6.819\\nmse = 2.536\\nsamples = 3\\nvalue = 33.133'),\n",
       " Text(31.50057215511761, 108.72, 'mse = 0.0\\nsamples = 1\\nvalue = 35.1'),\n",
       " Text(33.203305785123966, 108.72, 'X[1] <= 6.85\\nmse = 0.902\\nsamples = 2\\nvalue = 32.15'),\n",
       " Text(32.35193897012079, 99.26608695652173, 'mse = 0.0\\nsamples = 1\\nvalue = 33.1'),\n",
       " Text(34.05467260012715, 99.26608695652173, 'mse = 0.0\\nsamples = 1\\nvalue = 31.2'),\n",
       " Text(34.90603941513032, 127.62782608695652, 'X[1] <= 6.96\\nmse = 0.64\\nsamples = 2\\nvalue = 36.2'),\n",
       " Text(34.05467260012715, 118.17391304347825, 'mse = 0.0\\nsamples = 1\\nvalue = 37.0'),\n",
       " Text(35.757406230133505, 118.17391304347825, 'mse = -0.0\\nsamples = 1\\nvalue = 35.4'),\n",
       " Text(110.22706015575335, 184.3513043478261, 'X[0] <= 9.95\\nmse = 19.759\\nsamples = 179\\nvalue = 22.518'),\n",
       " Text(70.88293865225684, 174.89739130434782, 'X[1] <= 6.124\\nmse = 25.937\\nsamples = 96\\nvalue = 24.145'),\n",
       " Text(47.14443738080102, 165.44347826086957, 'X[1] <= 5.875\\nmse = 31.85\\nsamples = 32\\nvalue = 21.991'),\n",
       " Text(38.31150667514304, 155.98956521739132, 'X[1] <= 5.875\\nmse = 97.184\\nsamples = 8\\nvalue = 24.875'),\n",
       " Text(37.46013986013986, 146.53565217391304, 'X[0] <= 7.585\\nmse = 8.004\\nsamples = 7\\nvalue = 21.286'),\n",
       " Text(36.60877304513669, 137.08173913043478, 'mse = 0.0\\nsamples = 1\\nvalue = 27.5'),\n",
       " Text(38.31150667514304, 137.08173913043478, 'X[0] <= 8.26\\nmse = 1.829\\nsamples = 6\\nvalue = 20.25'),\n",
       " Text(37.46013986013986, 127.62782608695652, 'mse = 0.0\\nsamples = 1\\nvalue = 18.2'),\n",
       " Text(39.16287349014622, 127.62782608695652, 'X[1] <= 5.864\\nmse = 1.186\\nsamples = 5\\nvalue = 20.66'),\n",
       " Text(37.46013986013986, 118.17391304347825, 'X[0] <= 9.205\\nmse = 1.229\\nsamples = 3\\nvalue = 21.167'),\n",
       " Text(36.60877304513669, 108.72, 'X[1] <= 5.842\\nmse = 0.303\\nsamples = 2\\nvalue = 20.45'),\n",
       " Text(35.757406230133505, 99.26608695652173, 'mse = 0.0\\nsamples = 1\\nvalue = 19.9'),\n",
       " Text(37.46013986013986, 99.26608695652173, 'mse = 0.0\\nsamples = 1\\nvalue = 21.0'),\n",
       " Text(38.31150667514304, 108.72, 'mse = -0.0\\nsamples = 1\\nvalue = 22.6'),\n",
       " Text(40.865607120152575, 118.17391304347825, 'X[0] <= 9.45\\nmse = 0.16\\nsamples = 2\\nvalue = 19.9'),\n",
       " Text(40.0142403051494, 108.72, 'mse = 0.0\\nsamples = 1\\nvalue = 20.3'),\n",
       " Text(41.71697393515576, 108.72, 'mse = 0.0\\nsamples = 1\\nvalue = 19.5'),\n",
       " Text(39.16287349014622, 146.53565217391304, 'mse = 0.0\\nsamples = 1\\nvalue = 50.0'),\n",
       " Text(55.977368086458995, 155.98956521739132, 'X[1] <= 6.062\\nmse = 6.374\\nsamples = 24\\nvalue = 21.029'),\n",
       " Text(49.80495867768595, 146.53565217391304, 'X[1] <= 6.014\\nmse = 6.522\\nsamples = 15\\nvalue = 20.127'),\n",
       " Text(47.67654164017801, 137.08173913043478, 'X[0] <= 9.005\\nmse = 2.314\\nsamples = 10\\nvalue = 20.85'),\n",
       " Text(45.97380801017165, 127.62782608695652, 'X[1] <= 5.974\\nmse = 1.412\\nsamples = 6\\nvalue = 21.733'),\n",
       " Text(45.12244119516847, 118.17391304347825, 'X[1] <= 5.935\\nmse = 1.028\\nsamples = 5\\nvalue = 21.4'),\n",
       " Text(43.41970756516211, 108.72, 'X[0] <= 7.34\\nmse = 0.807\\nsamples = 3\\nvalue = 22.0'),\n",
       " Text(42.56834075015893, 99.26608695652173, 'mse = 0.0\\nsamples = 1\\nvalue = 23.1'),\n",
       " Text(44.27107438016529, 99.26608695652173, 'X[0] <= 8.445\\nmse = 0.303\\nsamples = 2\\nvalue = 21.45'),\n",
       " Text(43.41970756516211, 89.81217391304348, 'mse = 0.0\\nsamples = 1\\nvalue = 22.0'),\n",
       " Text(45.12244119516847, 89.81217391304348, 'mse = 0.0\\nsamples = 1\\nvalue = 20.9'),\n",
       " Text(46.82517482517483, 108.72, 'X[0] <= 6.915\\nmse = 0.01\\nsamples = 2\\nvalue = 20.5'),\n",
       " Text(45.97380801017165, 99.26608695652173, 'mse = 0.0\\nsamples = 1\\nvalue = 20.6'),\n",
       " Text(47.67654164017801, 99.26608695652173, 'mse = -0.0\\nsamples = 1\\nvalue = 20.4'),\n",
       " Text(46.82517482517483, 118.17391304347825, 'mse = -0.0\\nsamples = 1\\nvalue = 23.4'),\n",
       " Text(49.379275270184365, 127.62782608695652, 'X[1] <= 5.901\\nmse = 0.742\\nsamples = 4\\nvalue = 19.525'),\n",
       " Text(48.52790845518118, 118.17391304347825, 'mse = 0.0\\nsamples = 1\\nvalue = 20.9'),\n",
       " Text(50.23064208518754, 118.17391304347825, 'X[0] <= 9.255\\nmse = 0.149\\nsamples = 3\\nvalue = 19.067'),\n",
       " Text(49.379275270184365, 108.72, 'mse = 0.0\\nsamples = 1\\nvalue = 19.6'),\n",
       " Text(51.08200890019072, 108.72, 'X[0] <= 9.485\\nmse = 0.01\\nsamples = 2\\nvalue = 18.8'),\n",
       " Text(50.23064208518754, 99.26608695652173, 'mse = 0.0\\nsamples = 1\\nvalue = 18.7'),\n",
       " Text(51.9333757151939, 99.26608695652173, 'mse = 0.0\\nsamples = 1\\nvalue = 18.9'),\n",
       " Text(51.9333757151939, 137.08173913043478, 'X[1] <= 6.031\\nmse = 11.798\\nsamples = 5\\nvalue = 18.68'),\n",
       " Text(51.08200890019072, 127.62782608695652, 'mse = 0.0\\nsamples = 1\\nvalue = 11.9'),\n",
       " Text(52.78474253019708, 127.62782608695652, 'X[1] <= 6.034\\nmse = 0.382\\nsamples = 4\\nvalue = 20.375'),\n",
       " Text(51.9333757151939, 118.17391304347825, 'mse = 0.0\\nsamples = 1\\nvalue = 19.4'),\n",
       " Text(53.63610934520025, 118.17391304347825, 'X[1] <= 6.039\\nmse = 0.087\\nsamples = 3\\nvalue = 20.7'),\n",
       " Text(52.78474253019708, 108.72, 'mse = 0.0\\nsamples = 1\\nvalue = 21.1'),\n",
       " Text(54.487476160203435, 108.72, 'X[1] <= 6.05\\nmse = 0.01\\nsamples = 2\\nvalue = 20.5'),\n",
       " Text(53.63610934520025, 99.26608695652173, 'mse = 0.0\\nsamples = 1\\nvalue = 20.4'),\n",
       " Text(55.33884297520662, 99.26608695652173, 'mse = -0.0\\nsamples = 1\\nvalue = 20.6'),\n",
       " Text(62.149777495232044, 146.53565217391304, 'X[1] <= 6.111\\nmse = 2.507\\nsamples = 9\\nvalue = 22.533'),\n",
       " Text(60.44704386522569, 137.08173913043478, 'X[0] <= 9.68\\nmse = 1.916\\nsamples = 6\\nvalue = 23.25'),\n",
       " Text(59.595677050222505, 127.62782608695652, 'X[0] <= 9.355\\nmse = 1.564\\nsamples = 5\\nvalue = 22.9'),\n",
       " Text(58.74431023521933, 118.17391304347825, 'X[0] <= 7.865\\nmse = 1.052\\nsamples = 4\\nvalue = 23.325'),\n",
       " Text(57.89294342021615, 108.72, 'X[1] <= 6.087\\nmse = 0.98\\nsamples = 3\\nvalue = 23.0'),\n",
       " Text(57.041576605212974, 99.26608695652173, 'X[0] <= 5.975\\nmse = 0.562\\nsamples = 2\\nvalue = 23.55'),\n",
       " Text(56.19020979020979, 89.81217391304348, 'mse = 0.0\\nsamples = 1\\nvalue = 22.8'),\n",
       " Text(57.89294342021615, 89.81217391304348, 'mse = -0.0\\nsamples = 1\\nvalue = 24.3'),\n",
       " Text(58.74431023521933, 99.26608695652173, 'mse = -0.0\\nsamples = 1\\nvalue = 21.9'),\n",
       " Text(59.595677050222505, 108.72, 'mse = 0.0\\nsamples = 1\\nvalue = 24.3'),\n",
       " Text(60.44704386522569, 118.17391304347825, 'mse = -0.0\\nsamples = 1\\nvalue = 21.2'),\n",
       " Text(61.29841068022886, 127.62782608695652, 'mse = 0.0\\nsamples = 1\\nvalue = 25.0'),\n",
       " Text(63.8525111252384, 137.08173913043478, 'X[0] <= 8.76\\nmse = 0.607\\nsamples = 3\\nvalue = 21.1'),\n",
       " Text(63.00114431023522, 127.62782608695652, 'mse = 0.0\\nsamples = 1\\nvalue = 22.2'),\n",
       " Text(64.70387794024158, 127.62782608695652, 'X[0] <= 9.255\\nmse = 0.003\\nsamples = 2\\nvalue = 20.55'),\n",
       " Text(63.8525111252384, 118.17391304347825, 'mse = 0.0\\nsamples = 1\\nvalue = 20.6'),\n",
       " Text(65.55524475524476, 118.17391304347825, 'mse = 0.0\\nsamples = 1\\nvalue = 20.5'),\n",
       " Text(94.62143992371266, 165.44347826086957, 'X[0] <= 9.33\\nmse = 19.501\\nsamples = 64\\nvalue = 25.222'),\n",
       " Text(86.86602034329307, 155.98956521739132, 'X[1] <= 6.552\\nmse = 8.413\\nsamples = 51\\nvalue = 24.439'),\n",
       " Text(80.29453273998729, 146.53565217391304, 'X[1] <= 6.528\\nmse = 3.978\\nsamples = 34\\nvalue = 23.309'),\n",
       " Text(79.44316592498411, 137.08173913043478, 'X[0] <= 7.845\\nmse = 2.652\\nsamples = 33\\nvalue = 23.515'),\n",
       " Text(73.11112523839797, 127.62782608695652, 'X[1] <= 6.488\\nmse = 2.266\\nsamples = 25\\nvalue = 23.944'),\n",
       " Text(70.02492053401144, 118.17391304347825, 'X[1] <= 6.481\\nmse = 2.461\\nsamples = 22\\nvalue = 24.059'),\n",
       " Text(66.40661157024793, 108.72, 'X[0] <= 6.725\\nmse = 1.358\\nsamples = 20\\nvalue = 23.79'),\n",
       " Text(61.72409408773046, 99.26608695652173, 'X[1] <= 6.307\\nmse = 0.522\\nsamples = 9\\nvalue = 24.533'),\n",
       " Text(59.595677050222505, 89.81217391304348, 'X[1] <= 6.271\\nmse = 0.037\\nsamples = 4\\nvalue = 25.075'),\n",
       " Text(58.74431023521933, 80.35826086956521, 'X[1] <= 6.19\\nmse = 0.016\\nsamples = 3\\nvalue = 25.167'),\n",
       " Text(57.89294342021615, 70.90434782608696, 'mse = 0.0\\nsamples = 1\\nvalue = 25.3'),\n",
       " Text(59.595677050222505, 70.90434782608696, 'X[0] <= 6.4\\nmse = 0.01\\nsamples = 2\\nvalue = 25.1'),\n",
       " Text(58.74431023521933, 61.45043478260868, 'mse = 0.0\\nsamples = 1\\nvalue = 25.0'),\n",
       " Text(60.44704386522569, 61.45043478260868, 'mse = -0.0\\nsamples = 1\\nvalue = 25.2'),\n",
       " Text(60.44704386522569, 80.35826086956521, 'mse = 0.0\\nsamples = 1\\nvalue = 24.8'),\n",
       " Text(63.8525111252384, 89.81217391304348, 'X[1] <= 6.313\\nmse = 0.488\\nsamples = 5\\nvalue = 24.1'),\n",
       " Text(63.00114431023522, 80.35826086956521, 'mse = 0.0\\nsamples = 1\\nvalue = 23.0'),\n",
       " Text(64.70387794024158, 80.35826086956521, 'X[1] <= 6.416\\nmse = 0.232\\nsamples = 4\\nvalue = 24.375'),\n",
       " Text(63.00114431023522, 70.90434782608696, 'X[1] <= 6.365\\nmse = 0.04\\nsamples = 2\\nvalue = 24.8'),\n",
       " Text(62.149777495232044, 61.45043478260868, 'mse = 0.0\\nsamples = 1\\nvalue = 24.6'),\n",
       " Text(63.8525111252384, 61.45043478260868, 'mse = 0.0\\nsamples = 1\\nvalue = 25.0'),\n",
       " Text(66.40661157024793, 70.90434782608696, 'X[0] <= 6.54\\nmse = 0.062\\nsamples = 2\\nvalue = 23.95'),\n",
       " Text(65.55524475524476, 61.45043478260868, 'mse = 0.0\\nsamples = 1\\nvalue = 23.7'),\n",
       " Text(67.25797838525112, 61.45043478260868, 'mse = 0.0\\nsamples = 1\\nvalue = 24.2'),\n",
       " Text(71.08912905276541, 99.26608695652173, 'X[0] <= 6.765\\nmse = 1.22\\nsamples = 11\\nvalue = 23.182'),\n",
       " Text(69.38639542275907, 89.81217391304348, 'X[0] <= 6.74\\nmse = 0.562\\nsamples = 2\\nvalue = 21.45'),\n",
       " Text(68.53502860775589, 80.35826086956521, 'mse = 0.0\\nsamples = 1\\nvalue = 22.2'),\n",
       " Text(70.23776223776224, 80.35826086956521, 'mse = 0.0\\nsamples = 1\\nvalue = 20.7'),\n",
       " Text(72.79186268277178, 89.81217391304348, 'X[0] <= 7.695\\nmse = 0.551\\nsamples = 9\\nvalue = 23.567'),\n",
       " Text(71.9404958677686, 80.35826086956521, 'X[0] <= 7.57\\nmse = 0.331\\nsamples = 8\\nvalue = 23.388'),\n",
       " Text(71.08912905276541, 70.90434782608696, 'X[1] <= 6.259\\nmse = 0.185\\nsamples = 7\\nvalue = 23.543'),\n",
       " Text(68.96071201525747, 61.45043478260868, 'X[1] <= 6.164\\nmse = 0.158\\nsamples = 5\\nvalue = 23.38'),\n",
       " Text(67.25797838525112, 51.99652173913043, 'X[1] <= 6.154\\nmse = 0.16\\nsamples = 2\\nvalue = 23.7'),\n",
       " Text(66.40661157024793, 42.54260869565218, 'mse = 0.0\\nsamples = 1\\nvalue = 23.3'),\n",
       " Text(68.1093452002543, 42.54260869565218, 'mse = -0.0\\nsamples = 1\\nvalue = 24.1'),\n",
       " Text(70.66344564526383, 51.99652173913043, 'X[1] <= 6.188\\nmse = 0.042\\nsamples = 3\\nvalue = 23.167'),\n",
       " Text(69.81207883026065, 42.54260869565218, 'mse = 0.0\\nsamples = 1\\nvalue = 22.9'),\n",
       " Text(71.51481246026701, 42.54260869565218, 'X[0] <= 7.34\\nmse = 0.01\\nsamples = 2\\nvalue = 23.3'),\n",
       " Text(70.66344564526383, 33.0886956521739, 'mse = 0.0\\nsamples = 1\\nvalue = 23.2'),\n",
       " Text(72.36617927527018, 33.0886956521739, 'mse = 0.0\\nsamples = 1\\nvalue = 23.4'),\n",
       " Text(73.21754609027337, 61.45043478260868, 'X[1] <= 6.349\\nmse = 0.023\\nsamples = 2\\nvalue = 23.95'),\n",
       " Text(72.36617927527018, 51.99652173913043, 'mse = 0.0\\nsamples = 1\\nvalue = 24.1'),\n",
       " Text(74.06891290527655, 51.99652173913043, 'mse = -0.0\\nsamples = 1\\nvalue = 23.8'),\n",
       " Text(72.79186268277178, 70.90434782608696, 'mse = -0.0\\nsamples = 1\\nvalue = 22.3'),\n",
       " Text(73.64322949777495, 80.35826086956521, 'mse = 0.0\\nsamples = 1\\nvalue = 25.0'),\n",
       " Text(73.64322949777495, 108.72, 'X[0] <= 6.545\\nmse = 5.522\\nsamples = 2\\nvalue = 26.75'),\n",
       " Text(72.79186268277178, 99.26608695652173, 'mse = 0.0\\nsamples = 1\\nvalue = 24.4'),\n",
       " Text(74.49459631277813, 99.26608695652173, 'mse = 0.0\\nsamples = 1\\nvalue = 29.1'),\n",
       " Text(76.19732994278449, 118.17391304347825, 'X[0] <= 6.17\\nmse = 0.027\\nsamples = 3\\nvalue = 23.1'),\n",
       " Text(75.34596312778132, 108.72, 'mse = 0.0\\nsamples = 1\\nvalue = 22.9'),\n",
       " Text(77.04869675778767, 108.72, 'X[1] <= 6.513\\nmse = 0.01\\nsamples = 2\\nvalue = 23.2'),\n",
       " Text(76.19732994278449, 99.26608695652173, 'mse = 0.0\\nsamples = 1\\nvalue = 23.3'),\n",
       " Text(77.90006357279086, 99.26608695652173, 'mse = -0.0\\nsamples = 1\\nvalue = 23.1'),\n",
       " Text(85.77520661157025, 127.62782608695652, 'X[0] <= 9.065\\nmse = 1.487\\nsamples = 8\\nvalue = 22.175'),\n",
       " Text(83.43394787031151, 118.17391304347825, 'X[0] <= 8.405\\nmse = 0.746\\nsamples = 6\\nvalue = 22.667'),\n",
       " Text(81.30553083280357, 108.72, 'X[1] <= 6.424\\nmse = 0.227\\nsamples = 4\\nvalue = 22.125'),\n",
       " Text(79.6027972027972, 99.26608695652173, 'X[0] <= 8.05\\nmse = 0.04\\nsamples = 2\\nvalue = 21.8'),\n",
       " Text(78.75143038779403, 89.81217391304348, 'mse = 0.0\\nsamples = 1\\nvalue = 21.6'),\n",
       " Text(80.45416401780038, 89.81217391304348, 'mse = 0.0\\nsamples = 1\\nvalue = 22.0'),\n",
       " Text(83.00826446280992, 99.26608695652173, 'X[0] <= 8.195\\nmse = 0.202\\nsamples = 2\\nvalue = 22.45'),\n",
       " Text(82.15689764780674, 89.81217391304348, 'mse = 0.0\\nsamples = 1\\nvalue = 22.9'),\n",
       " Text(83.8596312778131, 89.81217391304348, 'mse = 0.0\\nsamples = 1\\nvalue = 22.0'),\n",
       " Text(85.56236490781946, 108.72, 'X[0] <= 8.81\\nmse = 0.023\\nsamples = 2\\nvalue = 23.75'),\n",
       " Text(84.71099809281628, 99.26608695652173, 'mse = 0.0\\nsamples = 1\\nvalue = 23.9'),\n",
       " Text(86.41373172282263, 99.26608695652173, 'mse = 0.0\\nsamples = 1\\nvalue = 23.6'),\n",
       " Text(88.116465352829, 118.17391304347825, 'X[1] <= 6.283\\nmse = 0.81\\nsamples = 2\\nvalue = 20.7'),\n",
       " Text(87.26509853782582, 108.72, 'mse = 0.0\\nsamples = 1\\nvalue = 19.8'),\n",
       " Text(88.96783216783217, 108.72, 'mse = -0.0\\nsamples = 1\\nvalue = 21.6'),\n",
       " Text(81.14589955499046, 137.08173913043478, 'mse = 0.0\\nsamples = 1\\nvalue = 16.5'),\n",
       " Text(93.43750794659886, 146.53565217391304, 'X[0] <= 5.835\\nmse = 9.614\\nsamples = 17\\nvalue = 26.7'),\n",
       " Text(92.58614113159568, 137.08173913043478, 'mse = 0.0\\nsamples = 1\\nvalue = 32.5'),\n",
       " Text(94.28887476160205, 137.08173913043478, 'X[1] <= 6.818\\nmse = 7.981\\nsamples = 16\\nvalue = 26.338'),\n",
       " Text(92.58614113159568, 127.62782608695652, 'X[1] <= 6.788\\nmse = 6.991\\nsamples = 13\\nvalue = 25.631'),\n",
       " Text(91.7347743165925, 118.17391304347825, 'X[1] <= 6.782\\nmse = 6.384\\nsamples = 12\\nvalue = 25.933'),\n",
       " Text(90.88340750158932, 108.72, 'X[1] <= 6.611\\nmse = 3.314\\nsamples = 11\\nvalue = 25.382'),\n",
       " Text(88.116465352829, 99.26608695652173, 'X[1] <= 6.586\\nmse = 0.062\\nsamples = 2\\nvalue = 23.55'),\n",
       " Text(87.26509853782582, 89.81217391304348, 'mse = 0.0\\nsamples = 1\\nvalue = 23.8'),\n",
       " Text(88.96783216783217, 89.81217391304348, 'mse = -0.0\\nsamples = 1\\nvalue = 23.3'),\n",
       " Text(93.65034965034965, 99.26608695652173, 'X[1] <= 6.633\\nmse = 3.125\\nsamples = 9\\nvalue = 25.789'),\n",
       " Text(90.67056579783853, 89.81217391304348, 'X[0] <= 8.075\\nmse = 3.392\\nsamples = 4\\nvalue = 26.825'),\n",
       " Text(89.81919898283535, 80.35826086956521, 'X[1] <= 6.622\\nmse = 3.42\\nsamples = 3\\nvalue = 26.3'),\n",
       " Text(88.96783216783217, 70.90434782608696, 'mse = 0.0\\nsamples = 1\\nvalue = 23.9'),\n",
       " Text(90.67056579783853, 70.90434782608696, 'X[1] <= 6.628\\nmse = 0.81\\nsamples = 2\\nvalue = 27.5'),\n",
       " Text(89.81919898283535, 61.45043478260868, 'mse = 0.0\\nsamples = 1\\nvalue = 28.4'),\n",
       " Text(91.52193261284171, 61.45043478260868, 'mse = -0.0\\nsamples = 1\\nvalue = 26.6'),\n",
       " Text(91.52193261284171, 80.35826086956521, 'mse = -0.0\\nsamples = 1\\nvalue = 28.4'),\n",
       " Text(96.63013350286079, 89.81217391304348, 'X[1] <= 6.766\\nmse = 1.366\\nsamples = 5\\nvalue = 24.96'),\n",
       " Text(95.7787666878576, 80.35826086956521, 'X[0] <= 6.87\\nmse = 0.967\\nsamples = 4\\nvalue = 24.575'),\n",
       " Text(94.07603305785125, 70.90434782608696, 'X[0] <= 6.275\\nmse = 0.722\\nsamples = 2\\nvalue = 25.35'),\n",
       " Text(93.22466624284806, 61.45043478260868, 'mse = 0.0\\nsamples = 1\\nvalue = 24.5'),\n",
       " Text(94.92739987285442, 61.45043478260868, 'mse = -0.0\\nsamples = 1\\nvalue = 26.2'),\n",
       " Text(97.48150031786396, 70.90434782608696, 'X[0] <= 7.46\\nmse = 0.01\\nsamples = 2\\nvalue = 23.8'),\n",
       " Text(96.63013350286079, 61.45043478260868, 'mse = 0.0\\nsamples = 1\\nvalue = 23.9'),\n",
       " Text(98.33286713286714, 61.45043478260868, 'mse = 0.0\\nsamples = 1\\nvalue = 23.7'),\n",
       " Text(97.48150031786396, 80.35826086956521, 'mse = 0.0\\nsamples = 1\\nvalue = 26.5'),\n",
       " Text(92.58614113159568, 108.72, 'mse = 0.0\\nsamples = 1\\nvalue = 32.0'),\n",
       " Text(93.43750794659886, 118.17391304347825, 'mse = 0.0\\nsamples = 1\\nvalue = 22.0'),\n",
       " Text(95.9916083916084, 127.62782608695652, 'X[0] <= 7.225\\nmse = 0.727\\nsamples = 3\\nvalue = 29.4'),\n",
       " Text(95.14024157660522, 118.17391304347825, 'X[0] <= 6.91\\nmse = 0.01\\nsamples = 2\\nvalue = 30.0'),\n",
       " Text(94.28887476160205, 108.72, 'mse = 0.0\\nsamples = 1\\nvalue = 30.1'),\n",
       " Text(95.9916083916084, 108.72, 'mse = 0.0\\nsamples = 1\\nvalue = 29.9'),\n",
       " Text(96.84297520661157, 118.17391304347825, 'mse = 0.0\\nsamples = 1\\nvalue = 28.2'),\n",
       " Text(102.37685950413224, 155.98956521739132, 'X[1] <= 6.296\\nmse = 51.171\\nsamples = 13\\nvalue = 28.292'),\n",
       " Text(99.39707565162111, 146.53565217391304, 'X[0] <= 9.5\\nmse = 104.542\\nsamples = 3\\nvalue = 37.067'),\n",
       " Text(98.54570883661793, 137.08173913043478, 'X[0] <= 9.46\\nmse = 31.36\\nsamples = 2\\nvalue = 30.6'),\n",
       " Text(97.69434202161476, 127.62782608695652, 'mse = 0.0\\nsamples = 1\\nvalue = 36.2'),\n",
       " Text(99.39707565162111, 127.62782608695652, 'mse = 0.0\\nsamples = 1\\nvalue = 25.0'),\n",
       " Text(100.24844246662428, 137.08173913043478, 'mse = 0.0\\nsamples = 1\\nvalue = 50.0'),\n",
       " Text(105.35664335664336, 146.53565217391304, 'X[1] <= 6.618\\nmse = 5.134\\nsamples = 10\\nvalue = 25.66'),\n",
       " Text(101.95117609663065, 137.08173913043478, 'X[0] <= 9.44\\nmse = 4.746\\nsamples = 5\\nvalue = 24.24'),\n",
       " Text(101.09980928162747, 127.62782608695652, 'mse = 0.0\\nsamples = 1\\nvalue = 28.1'),\n",
       " Text(102.80254291163382, 127.62782608695652, 'X[1] <= 6.578\\nmse = 1.277\\nsamples = 4\\nvalue = 23.275'),\n",
       " Text(101.09980928162747, 118.17391304347825, 'X[0] <= 9.565\\nmse = 0.202\\nsamples = 2\\nvalue = 24.35'),\n",
       " Text(100.24844246662428, 108.72, 'mse = 0.0\\nsamples = 1\\nvalue = 24.8'),\n",
       " Text(101.95117609663065, 108.72, 'mse = -0.0\\nsamples = 1\\nvalue = 23.9'),\n",
       " Text(104.50527654164019, 118.17391304347825, 'X[1] <= 6.592\\nmse = 0.04\\nsamples = 2\\nvalue = 22.2'),\n",
       " Text(103.65390972663701, 108.72, 'mse = 0.0\\nsamples = 1\\nvalue = 22.0'),\n",
       " Text(105.35664335664336, 108.72, 'mse = 0.0\\nsamples = 1\\nvalue = 22.4'),\n",
       " Text(108.76211061665607, 137.08173913043478, 'X[1] <= 6.745\\nmse = 1.49\\nsamples = 5\\nvalue = 27.08'),\n",
       " Text(107.05937698664972, 127.62782608695652, 'X[1] <= 6.685\\nmse = 0.36\\nsamples = 2\\nvalue = 28.1'),\n",
       " Text(106.20801017164654, 118.17391304347825, 'mse = 0.0\\nsamples = 1\\nvalue = 28.7'),\n",
       " Text(107.9107438016529, 118.17391304347825, 'mse = -0.0\\nsamples = 1\\nvalue = 27.5'),\n",
       " Text(110.46484424666244, 127.62782608695652, 'X[0] <= 9.605\\nmse = 1.087\\nsamples = 3\\nvalue = 26.4'),\n",
       " Text(109.61347743165925, 118.17391304347825, 'mse = 0.0\\nsamples = 1\\nvalue = 25.0'),\n",
       " Text(111.31621106166561, 118.17391304347825, 'X[0] <= 9.82\\nmse = 0.16\\nsamples = 2\\nvalue = 27.1'),\n",
       " Text(110.46484424666244, 108.72, 'mse = 0.0\\nsamples = 1\\nvalue = 26.7'),\n",
       " Text(112.16757787666879, 108.72, 'mse = -0.0\\nsamples = 1\\nvalue = 27.5'),\n",
       " Text(149.57118165924985, 174.89739130434782, 'X[1] <= 5.848\\nmse = 6.016\\nsamples = 83\\nvalue = 20.637'),\n",
       " Text(128.4499682136046, 165.44347826086957, 'X[0] <= 13.24\\nmse = 6.272\\nsamples = 24\\nvalue = 19.646'),\n",
       " Text(122.59682136045772, 155.98956521739132, 'X[0] <= 12.065\\nmse = 4.665\\nsamples = 16\\nvalue = 18.862'),\n",
       " Text(118.55282898919263, 146.53565217391304, 'X[0] <= 10.865\\nmse = 3.54\\nsamples = 10\\nvalue = 19.96'),\n",
       " Text(115.5730451366815, 137.08173913043478, 'X[0] <= 10.315\\nmse = 1.672\\nsamples = 4\\nvalue = 21.175'),\n",
       " Text(113.87031150667515, 127.62782608695652, 'X[0] <= 10.2\\nmse = 0.562\\nsamples = 2\\nvalue = 20.05'),\n",
       " Text(113.01894469167198, 118.17391304347825, 'mse = 0.0\\nsamples = 1\\nvalue = 20.8'),\n",
       " Text(114.72167832167833, 118.17391304347825, 'mse = 0.0\\nsamples = 1\\nvalue = 19.3'),\n",
       " Text(117.27577876668786, 127.62782608695652, 'X[0] <= 10.435\\nmse = 0.25\\nsamples = 2\\nvalue = 22.3'),\n",
       " Text(116.42441195168469, 118.17391304347825, 'mse = 0.0\\nsamples = 1\\nvalue = 21.8'),\n",
       " Text(118.12714558169104, 118.17391304347825, 'mse = 0.0\\nsamples = 1\\nvalue = 22.8'),\n",
       " Text(121.53261284170375, 137.08173913043478, 'X[0] <= 11.875\\nmse = 3.146\\nsamples = 6\\nvalue = 19.15'),\n",
       " Text(120.68124602670058, 127.62782608695652, 'X[1] <= 5.58\\nmse = 2.09\\nsamples = 5\\nvalue = 18.62'),\n",
       " Text(119.8298792116974, 118.17391304347825, 'mse = 0.0\\nsamples = 1\\nvalue = 20.2'),\n",
       " Text(121.53261284170375, 118.17391304347825, 'X[1] <= 5.707\\nmse = 1.832\\nsamples = 4\\nvalue = 18.225'),\n",
       " Text(120.68124602670058, 108.72, 'mse = 0.0\\nsamples = 1\\nvalue = 16.2'),\n",
       " Text(122.38397965670694, 108.72, 'X[1] <= 5.784\\nmse = 0.62\\nsamples = 3\\nvalue = 18.9'),\n",
       " Text(121.53261284170375, 99.26608695652173, 'X[1] <= 5.718\\nmse = 0.022\\nsamples = 2\\nvalue = 18.35'),\n",
       " Text(120.68124602670058, 89.81217391304348, 'mse = 0.0\\nsamples = 1\\nvalue = 18.5'),\n",
       " Text(122.38397965670694, 89.81217391304348, 'mse = -0.0\\nsamples = 1\\nvalue = 18.2'),\n",
       " Text(123.23534647171012, 99.26608695652173, 'mse = 0.0\\nsamples = 1\\nvalue = 20.0'),\n",
       " Text(122.38397965670694, 127.62782608695652, 'mse = 0.0\\nsamples = 1\\nvalue = 21.8'),\n",
       " Text(126.64081373172283, 146.53565217391304, 'X[1] <= 5.303\\nmse = 1.186\\nsamples = 6\\nvalue = 17.033'),\n",
       " Text(124.93808010171647, 137.08173913043478, 'X[0] <= 12.38\\nmse = 0.16\\nsamples = 2\\nvalue = 15.7'),\n",
       " Text(124.08671328671329, 127.62782608695652, 'mse = 0.0\\nsamples = 1\\nvalue = 15.3'),\n",
       " Text(125.78944691671965, 127.62782608695652, 'mse = 0.0\\nsamples = 1\\nvalue = 16.1'),\n",
       " Text(128.34354736172918, 137.08173913043478, 'X[1] <= 5.724\\nmse = 0.365\\nsamples = 4\\nvalue = 17.7'),\n",
       " Text(127.492180546726, 127.62782608695652, 'X[0] <= 12.465\\nmse = 0.042\\nsamples = 3\\nvalue = 17.367'),\n",
       " Text(126.64081373172283, 118.17391304347825, 'mse = 0.0\\nsamples = 1\\nvalue = 17.1'),\n",
       " Text(128.34354736172918, 118.17391304347825, 'X[1] <= 5.593\\nmse = 0.01\\nsamples = 2\\nvalue = 17.5'),\n",
       " Text(127.492180546726, 108.72, 'mse = 0.0\\nsamples = 1\\nvalue = 17.6'),\n",
       " Text(129.19491417673237, 108.72, 'mse = 0.0\\nsamples = 1\\nvalue = 17.4'),\n",
       " Text(129.19491417673237, 127.62782608695652, 'mse = -0.0\\nsamples = 1\\nvalue = 18.7'),\n",
       " Text(134.30311506675145, 155.98956521739132, 'X[1] <= 5.626\\nmse = 5.806\\nsamples = 8\\nvalue = 21.212'),\n",
       " Text(132.60038143674507, 146.53565217391304, 'X[1] <= 5.283\\nmse = 3.62\\nsamples = 3\\nvalue = 23.8'),\n",
       " Text(131.7490146217419, 137.08173913043478, 'X[0] <= 13.665\\nmse = 0.36\\nsamples = 2\\nvalue = 22.5'),\n",
       " Text(130.89764780673872, 127.62782608695652, 'mse = 0.0\\nsamples = 1\\nvalue = 23.1'),\n",
       " Text(132.60038143674507, 127.62782608695652, 'mse = 0.0\\nsamples = 1\\nvalue = 21.9'),\n",
       " Text(133.45174825174826, 137.08173913043478, 'mse = -0.0\\nsamples = 1\\nvalue = 26.4'),\n",
       " Text(136.0058486967578, 146.53565217391304, 'X[1] <= 5.79\\nmse = 0.69\\nsamples = 5\\nvalue = 19.66'),\n",
       " Text(135.1544818817546, 137.08173913043478, 'X[1] <= 5.689\\nmse = 0.285\\nsamples = 4\\nvalue = 20.0'),\n",
       " Text(134.30311506675145, 127.62782608695652, 'mse = 0.0\\nsamples = 1\\nvalue = 20.8'),\n",
       " Text(136.0058486967578, 127.62782608695652, 'X[0] <= 13.87\\nmse = 0.096\\nsamples = 3\\nvalue = 19.733'),\n",
       " Text(135.1544818817546, 118.17391304347825, 'mse = 0.0\\nsamples = 1\\nvalue = 19.3'),\n",
       " Text(136.85721551176098, 118.17391304347825, 'X[1] <= 5.772\\nmse = 0.002\\nsamples = 2\\nvalue = 19.95'),\n",
       " Text(136.0058486967578, 108.72, 'mse = 0.0\\nsamples = 1\\nvalue = 19.9'),\n",
       " Text(137.70858232676414, 108.72, 'mse = 0.0\\nsamples = 1\\nvalue = 20.0'),\n",
       " Text(136.85721551176098, 137.08173913043478, 'mse = 0.0\\nsamples = 1\\nvalue = 18.3'),\n",
       " Text(170.69239510489513, 165.44347826086957, 'X[1] <= 6.404\\nmse = 5.349\\nsamples = 59\\nvalue = 21.041'),\n",
       " Text(162.7041799109981, 155.98956521739132, 'X[1] <= 6.318\\nmse = 5.319\\nsamples = 52\\nvalue = 21.24'),\n",
       " Text(153.11300063572793, 146.53565217391304, 'X[1] <= 5.982\\nmse = 5.49\\nsamples = 46\\nvalue = 21.024'),\n",
       " Text(146.00940877304515, 137.08173913043478, 'X[1] <= 5.923\\nmse = 4.07\\nsamples = 14\\nvalue = 21.943'),\n",
       " Text(142.39109980928163, 127.62782608695652, 'X[0] <= 10.715\\nmse = 2.902\\nsamples = 11\\nvalue = 21.245'),\n",
       " Text(140.26268277177368, 118.17391304347825, 'X[0] <= 10.265\\nmse = 0.16\\nsamples = 2\\nvalue = 18.9'),\n",
       " Text(139.41131595677052, 108.72, 'mse = 0.0\\nsamples = 1\\nvalue = 19.3'),\n",
       " Text(141.11404958677687, 108.72, 'mse = 0.0\\nsamples = 1\\nvalue = 18.5'),\n",
       " Text(144.51951684678957, 118.17391304347825, 'X[0] <= 11.835\\nmse = 2.018\\nsamples = 9\\nvalue = 21.767'),\n",
       " Text(142.81678321678322, 108.72, 'X[0] <= 11.255\\nmse = 0.003\\nsamples = 2\\nvalue = 22.65'),\n",
       " Text(141.96541640178003, 99.26608695652173, 'mse = 0.0\\nsamples = 1\\nvalue = 22.6'),\n",
       " Text(143.6681500317864, 99.26608695652173, 'mse = 0.0\\nsamples = 1\\nvalue = 22.7'),\n",
       " Text(146.22225047679595, 108.72, 'X[0] <= 12.085\\nmse = 2.307\\nsamples = 7\\nvalue = 21.514'),\n",
       " Text(145.37088366179276, 99.26608695652173, 'mse = 0.0\\nsamples = 1\\nvalue = 19.1'),\n",
       " Text(147.0736172917991, 99.26608695652173, 'X[0] <= 12.57\\nmse = 1.558\\nsamples = 6\\nvalue = 21.917'),\n",
       " Text(146.22225047679595, 89.81217391304348, 'mse = 0.0\\nsamples = 1\\nvalue = 23.8'),\n",
       " Text(147.9249841068023, 89.81217391304348, 'X[0] <= 13.425\\nmse = 1.018\\nsamples = 5\\nvalue = 21.54'),\n",
       " Text(146.22225047679595, 80.35826086956521, 'X[1] <= 5.863\\nmse = 0.062\\nsamples = 2\\nvalue = 20.85'),\n",
       " Text(145.37088366179276, 70.90434782608696, 'mse = 0.0\\nsamples = 1\\nvalue = 21.1'),\n",
       " Text(147.0736172917991, 70.90434782608696, 'mse = 0.0\\nsamples = 1\\nvalue = 20.6'),\n",
       " Text(149.62771773680865, 80.35826086956521, 'X[0] <= 13.58\\nmse = 1.127\\nsamples = 3\\nvalue = 22.0'),\n",
       " Text(148.7763509218055, 70.90434782608696, 'mse = 0.0\\nsamples = 1\\nvalue = 23.3'),\n",
       " Text(150.47908455181184, 70.90434782608696, 'X[0] <= 14.01\\nmse = 0.422\\nsamples = 2\\nvalue = 21.35'),\n",
       " Text(149.62771773680865, 61.45043478260868, 'mse = 0.0\\nsamples = 1\\nvalue = 20.7'),\n",
       " Text(151.330451366815, 61.45043478260868, 'mse = -0.0\\nsamples = 1\\nvalue = 22.0'),\n",
       " Text(149.62771773680865, 127.62782608695652, 'X[1] <= 5.974\\nmse = 0.027\\nsamples = 3\\nvalue = 24.5'),\n",
       " Text(148.7763509218055, 118.17391304347825, 'X[1] <= 5.946\\nmse = 0.01\\nsamples = 2\\nvalue = 24.6'),\n",
       " Text(147.9249841068023, 108.72, 'mse = 0.0\\nsamples = 1\\nvalue = 24.5'),\n",
       " Text(149.62771773680865, 108.72, 'mse = -0.0\\nsamples = 1\\nvalue = 24.7'),\n",
       " Text(150.47908455181184, 118.17391304347825, 'mse = 0.0\\nsamples = 1\\nvalue = 24.3'),\n",
       " Text(160.21659249841068, 137.08173913043478, 'X[0] <= 10.555\\nmse = 5.58\\nsamples = 32\\nvalue = 20.622'),\n",
       " Text(154.73591862682773, 127.62782608695652, 'X[0] <= 10.425\\nmse = 2.044\\nsamples = 7\\nvalue = 19.486'),\n",
       " Text(153.03318499682138, 118.17391304347825, 'X[0] <= 10.35\\nmse = 1.526\\nsamples = 5\\nvalue = 20.08'),\n",
       " Text(152.1818181818182, 108.72, 'X[1] <= 6.118\\nmse = 1.087\\nsamples = 4\\nvalue = 19.675'),\n",
       " Text(150.47908455181184, 99.26608695652173, 'X[1] <= 6.059\\nmse = 0.25\\nsamples = 2\\nvalue = 18.7'),\n",
       " Text(149.62771773680865, 89.81217391304348, 'mse = 0.0\\nsamples = 1\\nvalue = 19.2'),\n",
       " Text(151.330451366815, 89.81217391304348, 'mse = -0.0\\nsamples = 1\\nvalue = 18.2'),\n",
       " Text(153.88455181182454, 99.26608695652173, 'X[0] <= 10.21\\nmse = 0.022\\nsamples = 2\\nvalue = 20.65'),\n",
       " Text(153.03318499682138, 89.81217391304348, 'mse = 0.0\\nsamples = 1\\nvalue = 20.5'),\n",
       " Text(154.73591862682773, 89.81217391304348, 'mse = 0.0\\nsamples = 1\\nvalue = 20.8'),\n",
       " Text(153.88455181182454, 108.72, 'mse = 0.0\\nsamples = 1\\nvalue = 21.7'),\n",
       " Text(156.43865225683408, 118.17391304347825, 'X[1] <= 6.134\\nmse = 0.25\\nsamples = 2\\nvalue = 18.0'),\n",
       " Text(155.58728544183091, 108.72, 'mse = 0.0\\nsamples = 1\\nvalue = 17.5'),\n",
       " Text(157.29001907183726, 108.72, 'mse = 0.0\\nsamples = 1\\nvalue = 18.5'),\n",
       " Text(165.69726636999366, 127.62782608695652, 'X[0] <= 13.245\\nmse = 6.107\\nsamples = 25\\nvalue = 20.94'),\n",
       " Text(162.07895740623013, 118.17391304347825, 'X[0] <= 13.095\\nmse = 7.289\\nsamples = 19\\nvalue = 21.342'),\n",
       " Text(160.37622377622378, 108.72, 'X[0] <= 13.02\\nmse = 3.895\\nsamples = 17\\nvalue = 20.853'),\n",
       " Text(159.5248569612206, 99.26608695652173, 'X[1] <= 6.017\\nmse = 1.459\\nsamples = 16\\nvalue = 21.25'),\n",
       " Text(156.43865225683408, 89.81217391304348, 'X[1] <= 6.013\\nmse = 0.04\\nsamples = 2\\nvalue = 22.7'),\n",
       " Text(155.58728544183091, 80.35826086956521, 'mse = 0.0\\nsamples = 1\\nvalue = 22.9'),\n",
       " Text(157.29001907183726, 80.35826086956521, 'mse = -0.0\\nsamples = 1\\nvalue = 22.5'),\n",
       " Text(162.61106166560714, 89.81217391304348, 'X[0] <= 11.53\\nmse = 1.318\\nsamples = 14\\nvalue = 21.043'),\n",
       " Text(158.9927527018436, 80.35826086956521, 'X[1] <= 6.125\\nmse = 1.7\\nsamples = 4\\nvalue = 21.8'),\n",
       " Text(158.14138588684045, 70.90434782608696, 'mse = 0.0\\nsamples = 1\\nvalue = 24.0'),\n",
       " Text(159.8441195168468, 70.90434782608696, 'X[0] <= 10.965\\nmse = 0.116\\nsamples = 3\\nvalue = 21.067'),\n",
       " Text(158.9927527018436, 61.45043478260868, 'X[1] <= 6.28\\nmse = 0.09\\nsamples = 2\\nvalue = 20.9'),\n",
       " Text(158.14138588684045, 51.99652173913043, 'mse = 0.0\\nsamples = 1\\nvalue = 20.6'),\n",
       " Text(159.8441195168468, 51.99652173913043, 'mse = 0.0\\nsamples = 1\\nvalue = 21.2'),\n",
       " Text(160.69548633184996, 61.45043478260868, 'mse = 0.0\\nsamples = 1\\nvalue = 21.4'),\n",
       " Text(166.22937062937064, 80.35826086956521, 'X[0] <= 12.335\\nmse = 0.844\\nsamples = 10\\nvalue = 20.74'),\n",
       " Text(163.2495867768595, 70.90434782608696, 'X[1] <= 6.095\\nmse = 0.096\\nsamples = 3\\nvalue = 19.833'),\n",
       " Text(162.39821996185634, 61.45043478260868, 'mse = 0.0\\nsamples = 1\\nvalue = 19.4'),\n",
       " Text(164.1009535918627, 61.45043478260868, 'X[1] <= 6.223\\nmse = 0.002\\nsamples = 2\\nvalue = 20.05'),\n",
       " Text(163.2495867768595, 51.99652173913043, 'mse = 0.0\\nsamples = 1\\nvalue = 20.1'),\n",
       " Text(164.95232040686588, 51.99652173913043, 'mse = -0.0\\nsamples = 1\\nvalue = 20.0'),\n",
       " Text(169.20915448188177, 70.90434782608696, 'X[1] <= 6.103\\nmse = 0.662\\nsamples = 7\\nvalue = 21.129'),\n",
       " Text(167.50642085187542, 61.45043478260868, 'X[1] <= 6.057\\nmse = 0.303\\nsamples = 2\\nvalue = 20.65'),\n",
       " Text(166.65505403687223, 51.99652173913043, 'mse = 0.0\\nsamples = 1\\nvalue = 21.2'),\n",
       " Text(168.35778766687858, 51.99652173913043, 'mse = 0.0\\nsamples = 1\\nvalue = 20.1'),\n",
       " Text(170.91188811188812, 61.45043478260868, 'X[1] <= 6.112\\nmse = 0.678\\nsamples = 5\\nvalue = 21.32'),\n",
       " Text(170.06052129688493, 51.99652173913043, 'mse = 0.0\\nsamples = 1\\nvalue = 22.6'),\n",
       " Text(171.7632549268913, 51.99652173913043, 'X[0] <= 12.965\\nmse = 0.335\\nsamples = 4\\nvalue = 21.0'),\n",
       " Text(170.91188811188812, 42.54260869565218, 'X[0] <= 12.83\\nmse = 0.229\\nsamples = 3\\nvalue = 20.767'),\n",
       " Text(170.06052129688493, 33.0886956521739, 'X[0] <= 12.535\\nmse = 0.01\\nsamples = 2\\nvalue = 21.1'),\n",
       " Text(169.20915448188177, 23.634782608695645, 'mse = 0.0\\nsamples = 1\\nvalue = 21.2'),\n",
       " Text(170.91188811188812, 23.634782608695645, 'mse = -0.0\\nsamples = 1\\nvalue = 21.0'),\n",
       " Text(171.7632549268913, 33.0886956521739, 'mse = -0.0\\nsamples = 1\\nvalue = 20.1'),\n",
       " Text(172.61462174189447, 42.54260869565218, 'mse = 0.0\\nsamples = 1\\nvalue = 21.7'),\n",
       " Text(161.22759059122697, 99.26608695652173, 'mse = 0.0\\nsamples = 1\\nvalue = 14.5'),\n",
       " Text(163.7816910362365, 108.72, 'X[1] <= 6.181\\nmse = 16.81\\nsamples = 2\\nvalue = 25.5'),\n",
       " Text(162.93032422123332, 99.26608695652173, 'mse = 0.0\\nsamples = 1\\nvalue = 29.6'),\n",
       " Text(164.63305785123967, 99.26608695652173, 'mse = -0.0\\nsamples = 1\\nvalue = 21.4'),\n",
       " Text(169.31557533375715, 118.17391304347825, 'X[1] <= 6.007\\nmse = 0.232\\nsamples = 6\\nvalue = 19.667'),\n",
       " Text(167.1871582962492, 108.72, 'X[1] <= 5.993\\nmse = 0.01\\nsamples = 2\\nvalue = 20.2'),\n",
       " Text(166.33579148124605, 99.26608695652173, 'mse = 0.0\\nsamples = 1\\nvalue = 20.1'),\n",
       " Text(168.0385251112524, 99.26608695652173, 'mse = -0.0\\nsamples = 1\\nvalue = 20.3'),\n",
       " Text(171.4439923712651, 108.72, 'X[0] <= 13.715\\nmse = 0.13\\nsamples = 4\\nvalue = 19.4'),\n",
       " Text(169.74125874125875, 99.26608695652173, 'X[1] <= 6.073\\nmse = 0.04\\nsamples = 2\\nvalue = 19.1'),\n",
       " Text(168.88989192625556, 89.81217391304348, 'mse = 0.0\\nsamples = 1\\nvalue = 18.9'),\n",
       " Text(170.59262555626194, 89.81217391304348, 'mse = -0.0\\nsamples = 1\\nvalue = 19.3'),\n",
       " Text(173.14672600127147, 99.26608695652173, 'X[1] <= 6.284\\nmse = 0.04\\nsamples = 2\\nvalue = 19.7'),\n",
       " Text(172.29535918626829, 89.81217391304348, 'mse = 0.0\\nsamples = 1\\nvalue = 19.9'),\n",
       " Text(173.99809281627464, 89.81217391304348, 'mse = 0.0\\nsamples = 1\\nvalue = 19.5'),\n",
       " Text(172.29535918626829, 146.53565217391304, 'X[1] <= 6.342\\nmse = 0.893\\nsamples = 6\\nvalue = 22.9'),\n",
       " Text(170.59262555626194, 137.08173913043478, 'X[1] <= 6.322\\nmse = 0.09\\nsamples = 2\\nvalue = 24.1'),\n",
       " Text(169.74125874125875, 127.62782608695652, 'mse = 0.0\\nsamples = 1\\nvalue = 23.8'),\n",
       " Text(171.4439923712651, 127.62782608695652, 'mse = -0.0\\nsamples = 1\\nvalue = 24.4'),\n",
       " Text(173.99809281627464, 137.08173913043478, 'X[0] <= 10.86\\nmse = 0.215\\nsamples = 4\\nvalue = 22.3'),\n",
       " Text(173.14672600127147, 127.62782608695652, 'mse = 0.0\\nsamples = 1\\nvalue = 23.0'),\n",
       " Text(174.84945963127782, 127.62782608695652, 'X[0] <= 12.295\\nmse = 0.069\\nsamples = 3\\nvalue = 22.067'),\n",
       " Text(173.99809281627464, 118.17391304347825, 'X[1] <= 6.38\\nmse = 0.002\\nsamples = 2\\nvalue = 22.25'),\n",
       " Text(173.14672600127147, 108.72, 'mse = 0.0\\nsamples = 1\\nvalue = 22.2'),\n",
       " Text(174.84945963127782, 108.72, 'mse = 0.0\\nsamples = 1\\nvalue = 22.3'),\n",
       " Text(175.700826446281, 118.17391304347825, 'mse = -0.0\\nsamples = 1\\nvalue = 21.7'),\n",
       " Text(178.68061029879212, 155.98956521739132, 'X[1] <= 6.442\\nmse = 3.074\\nsamples = 7\\nvalue = 19.557'),\n",
       " Text(176.55219326128417, 146.53565217391304, 'X[0] <= 11.33\\nmse = 1.562\\nsamples = 2\\nvalue = 17.35'),\n",
       " Text(175.700826446281, 137.08173913043478, 'mse = 0.0\\nsamples = 1\\nvalue = 18.6'),\n",
       " Text(177.40356007628736, 137.08173913043478, 'mse = 0.0\\nsamples = 1\\nvalue = 16.1'),\n",
       " Text(180.80902733630006, 146.53565217391304, 'X[1] <= 6.593\\nmse = 0.95\\nsamples = 5\\nvalue = 20.44'),\n",
       " Text(179.1062937062937, 137.08173913043478, 'X[0] <= 12.435\\nmse = 0.169\\nsamples = 3\\nvalue = 19.733'),\n",
       " Text(178.25492689129052, 127.62782608695652, 'X[0] <= 11.28\\nmse = 0.04\\nsamples = 2\\nvalue = 20.0'),\n",
       " Text(177.40356007628736, 118.17391304347825, 'mse = 0.0\\nsamples = 1\\nvalue = 20.2'),\n",
       " Text(179.1062937062937, 118.17391304347825, 'mse = -0.0\\nsamples = 1\\nvalue = 19.8'),\n",
       " Text(179.9576605212969, 127.62782608695652, 'mse = 0.0\\nsamples = 1\\nvalue = 19.2'),\n",
       " Text(182.51176096630644, 137.08173913043478, 'X[0] <= 11.68\\nmse = 0.25\\nsamples = 2\\nvalue = 21.5'),\n",
       " Text(181.66039415130325, 127.62782608695652, 'mse = 0.0\\nsamples = 1\\nvalue = 22.0'),\n",
       " Text(183.3631277813096, 127.62782608695652, 'mse = 0.0\\nsamples = 1\\nvalue = 21.0'),\n",
       " Text(240.5755597385569, 193.80521739130435, 'X[0] <= 19.605\\nmse = 18.758\\nsamples = 139\\nvalue = 14.919'),\n",
       " Text(208.24814744914178, 184.3513043478261, 'X[1] <= 6.178\\nmse = 11.57\\nsamples = 78\\nvalue = 17.049'),\n",
       " Text(195.24734384933248, 174.89739130434782, 'X[0] <= 18.975\\nmse = 11.187\\nsamples = 52\\nvalue = 18.079'),\n",
       " Text(194.39597703432932, 165.44347826086957, 'X[1] <= 5.569\\nmse = 9.779\\nsamples = 51\\nvalue = 17.902'),\n",
       " Text(191.30478385251112, 155.98956521739132, 'X[0] <= 17.61\\nmse = 2.069\\nsamples = 3\\nvalue = 13.567'),\n",
       " Text(190.45341703750796, 146.53565217391304, 'mse = 0.0\\nsamples = 1\\nvalue = 11.7'),\n",
       " Text(192.1561506675143, 146.53565217391304, 'X[1] <= 5.441\\nmse = 0.49\\nsamples = 2\\nvalue = 14.5'),\n",
       " Text(191.30478385251112, 137.08173913043478, 'mse = 0.0\\nsamples = 1\\nvalue = 13.8'),\n",
       " Text(193.0075174825175, 137.08173913043478, 'mse = 0.0\\nsamples = 1\\nvalue = 15.2'),\n",
       " Text(197.4871702161475, 155.98956521739132, 'X[1] <= 5.586\\nmse = 9.013\\nsamples = 48\\nvalue = 18.173'),\n",
       " Text(196.63580340114433, 146.53565217391304, 'mse = 0.0\\nsamples = 1\\nvalue = 23.1'),\n",
       " Text(198.33853703115068, 146.53565217391304, 'X[1] <= 5.654\\nmse = 8.677\\nsamples = 47\\nvalue = 18.068'),\n",
       " Text(194.71025111252385, 137.08173913043478, 'X[0] <= 18.4\\nmse = 3.247\\nsamples = 4\\nvalue = 15.575'),\n",
       " Text(193.85888429752066, 127.62782608695652, 'X[0] <= 16.58\\nmse = 0.527\\nsamples = 3\\nvalue = 14.6'),\n",
       " Text(193.0075174825175, 118.17391304347825, 'mse = 0.0\\nsamples = 1\\nvalue = 13.9'),\n",
       " Text(194.71025111252385, 118.17391304347825, 'X[0] <= 17.495\\nmse = 0.422\\nsamples = 2\\nvalue = 14.95'),\n",
       " Text(193.85888429752066, 108.72, 'mse = 0.0\\nsamples = 1\\nvalue = 15.6'),\n",
       " Text(195.56161792752704, 108.72, 'mse = 0.0\\nsamples = 1\\nvalue = 14.3'),\n",
       " Text(195.56161792752704, 127.62782608695652, 'mse = 0.0\\nsamples = 1\\nvalue = 18.5'),\n",
       " Text(201.9668229497775, 137.08173913043478, 'X[1] <= 5.686\\nmse = 8.551\\nsamples = 43\\nvalue = 18.3'),\n",
       " Text(201.11545613477432, 127.62782608695652, 'mse = 0.0\\nsamples = 1\\nvalue = 23.1'),\n",
       " Text(202.81818976478067, 127.62782608695652, 'X[1] <= 5.707\\nmse = 8.193\\nsamples = 42\\nvalue = 18.186'),\n",
       " Text(201.9668229497775, 118.17391304347825, 'mse = 0.0\\nsamples = 1\\nvalue = 13.1'),\n",
       " Text(203.66955657978386, 118.17391304347825, 'X[1] <= 6.122\\nmse = 7.746\\nsamples = 41\\nvalue = 18.31'),\n",
       " Text(197.2643515575334, 108.72, 'X[1] <= 6.049\\nmse = 8.196\\nsamples = 36\\nvalue = 18.478'),\n",
       " Text(192.96760966306422, 99.26608695652173, 'X[1] <= 6.017\\nmse = 7.402\\nsamples = 31\\nvalue = 18.058'),\n",
       " Text(189.48232676414494, 89.81217391304348, 'X[0] <= 17.13\\nmse = 7.447\\nsamples = 29\\nvalue = 18.221'),\n",
       " Text(185.06586141131598, 80.35826086956521, 'X[0] <= 16.92\\nmse = 7.269\\nsamples = 20\\nvalue = 17.745'),\n",
       " Text(180.48976478067388, 70.90434782608696, 'X[1] <= 5.844\\nmse = 6.889\\nsamples = 17\\nvalue = 18.082'),\n",
       " Text(176.87145581691038, 61.45043478260868, 'X[1] <= 5.829\\nmse = 10.975\\nsamples = 6\\nvalue = 16.983'),\n",
       " Text(176.0200890019072, 51.99652173913043, 'X[1] <= 5.793\\nmse = 2.126\\nsamples = 5\\nvalue = 18.34'),\n",
       " Text(174.31735537190085, 42.54260869565218, 'X[1] <= 5.747\\nmse = 0.022\\nsamples = 2\\nvalue = 19.95'),\n",
       " Text(173.46598855689766, 33.0886956521739, 'mse = 0.0\\nsamples = 1\\nvalue = 20.1'),\n",
       " Text(175.168722186904, 33.0886956521739, 'mse = -0.0\\nsamples = 1\\nvalue = 19.8'),\n",
       " Text(177.72282263191354, 42.54260869565218, 'X[0] <= 14.92\\nmse = 0.649\\nsamples = 3\\nvalue = 17.267'),\n",
       " Text(176.87145581691038, 33.0886956521739, 'X[1] <= 5.808\\nmse = 0.01\\nsamples = 2\\nvalue = 16.7'),\n",
       " Text(176.0200890019072, 23.634782608695645, 'mse = 0.0\\nsamples = 1\\nvalue = 16.8'),\n",
       " Text(177.72282263191354, 23.634782608695645, 'mse = -0.0\\nsamples = 1\\nvalue = 16.6'),\n",
       " Text(178.57418944691673, 33.0886956521739, 'mse = 0.0\\nsamples = 1\\nvalue = 18.4'),\n",
       " Text(177.72282263191354, 51.99652173913043, 'mse = -0.0\\nsamples = 1\\nvalue = 10.2'),\n",
       " Text(184.10807374443738, 61.45043478260868, 'X[1] <= 5.901\\nmse = 3.641\\nsamples = 11\\nvalue = 18.682'),\n",
       " Text(181.97965670692943, 51.99652173913043, 'X[1] <= 5.888\\nmse = 1.112\\nsamples = 4\\nvalue = 20.125'),\n",
       " Text(181.12828989192627, 42.54260869565218, 'X[1] <= 5.88\\nmse = 0.38\\nsamples = 3\\nvalue = 19.6'),\n",
       " Text(180.27692307692308, 33.0886956521739, 'X[0] <= 15.92\\nmse = 0.202\\nsamples = 2\\nvalue = 19.95'),\n",
       " Text(179.4255562619199, 23.634782608695645, 'mse = 0.0\\nsamples = 1\\nvalue = 20.4'),\n",
       " Text(181.12828989192627, 23.634782608695645, 'mse = 0.0\\nsamples = 1\\nvalue = 19.5'),\n",
       " Text(181.97965670692943, 33.0886956521739, 'mse = 0.0\\nsamples = 1\\nvalue = 18.9'),\n",
       " Text(182.83102352193262, 42.54260869565218, 'mse = -0.0\\nsamples = 1\\nvalue = 21.7'),\n",
       " Text(186.23649078194535, 51.99652173913043, 'X[1] <= 5.976\\nmse = 3.217\\nsamples = 7\\nvalue = 17.857'),\n",
       " Text(184.53375715193897, 42.54260869565218, 'X[1] <= 5.918\\nmse = 1.562\\nsamples = 5\\nvalue = 17.22'),\n",
       " Text(183.6823903369358, 33.0886956521739, 'mse = 0.0\\nsamples = 1\\nvalue = 18.8'),\n",
       " Text(185.38512396694216, 33.0886956521739, 'X[1] <= 5.926\\nmse = 1.172\\nsamples = 4\\nvalue = 16.825'),\n",
       " Text(184.53375715193897, 23.634782608695645, 'mse = 0.0\\nsamples = 1\\nvalue = 15.6'),\n",
       " Text(186.23649078194535, 23.634782608695645, 'X[0] <= 15.1\\nmse = 0.896\\nsamples = 3\\nvalue = 17.233'),\n",
       " Text(185.38512396694216, 14.180869565217392, 'mse = 0.0\\nsamples = 1\\nvalue = 16.0'),\n",
       " Text(187.0878575969485, 14.180869565217392, 'X[1] <= 5.935\\nmse = 0.202\\nsamples = 2\\nvalue = 17.85'),\n",
       " Text(186.23649078194535, 4.726956521739112, 'mse = 0.0\\nsamples = 1\\nvalue = 18.3'),\n",
       " Text(187.9392244119517, 4.726956521739112, 'mse = -0.0\\nsamples = 1\\nvalue = 17.4'),\n",
       " Text(187.9392244119517, 42.54260869565218, 'X[0] <= 14.74\\nmse = 3.803\\nsamples = 2\\nvalue = 19.45'),\n",
       " Text(187.0878575969485, 33.0886956521739, 'mse = 0.0\\nsamples = 1\\nvalue = 17.5'),\n",
       " Text(188.79059122695486, 33.0886956521739, 'mse = 0.0\\nsamples = 1\\nvalue = 21.4'),\n",
       " Text(189.64195804195805, 70.90434782608696, 'X[1] <= 5.97\\nmse = 5.129\\nsamples = 3\\nvalue = 15.833'),\n",
       " Text(188.79059122695486, 61.45043478260868, 'X[1] <= 5.824\\nmse = 0.64\\nsamples = 2\\nvalue = 14.3'),\n",
       " Text(187.9392244119517, 51.99652173913043, 'mse = 0.0\\nsamples = 1\\nvalue = 15.1'),\n",
       " Text(189.64195804195805, 51.99652173913043, 'mse = -0.0\\nsamples = 1\\nvalue = 13.5'),\n",
       " Text(190.49332485696124, 61.45043478260868, 'mse = 0.0\\nsamples = 1\\nvalue = 18.9'),\n",
       " Text(193.89879211697394, 80.35826086956521, 'X[1] <= 5.971\\nmse = 6.222\\nsamples = 9\\nvalue = 19.278'),\n",
       " Text(193.04742530197078, 70.90434782608696, 'X[1] <= 5.809\\nmse = 2.466\\nsamples = 8\\nvalue = 19.987'),\n",
       " Text(192.1960584869676, 61.45043478260868, 'mse = 0.0\\nsamples = 1\\nvalue = 22.5'),\n",
       " Text(193.89879211697394, 61.45043478260868, 'X[1] <= 5.939\\nmse = 1.788\\nsamples = 7\\nvalue = 19.629'),\n",
       " Text(192.1960584869676, 51.99652173913043, 'X[1] <= 5.858\\nmse = 0.395\\nsamples = 4\\nvalue = 18.8'),\n",
       " Text(191.3446916719644, 42.54260869565218, 'mse = 0.0\\nsamples = 1\\nvalue = 19.5'),\n",
       " Text(193.04742530197078, 42.54260869565218, 'X[0] <= 18.23\\nmse = 0.309\\nsamples = 3\\nvalue = 18.567'),\n",
       " Text(192.1960584869676, 33.0886956521739, 'X[0] <= 17.855\\nmse = 0.022\\nsamples = 2\\nvalue = 18.95'),\n",
       " Text(191.3446916719644, 23.634782608695645, 'mse = 0.0\\nsamples = 1\\nvalue = 18.8'),\n",
       " Text(193.04742530197078, 23.634782608695645, 'mse = -0.0\\nsamples = 1\\nvalue = 19.1'),\n",
       " Text(193.89879211697394, 33.0886956521739, 'mse = 0.0\\nsamples = 1\\nvalue = 17.8'),\n",
       " Text(195.60152574698031, 51.99652173913043, 'X[0] <= 17.21\\nmse = 1.509\\nsamples = 3\\nvalue = 20.733'),\n",
       " Text(194.75015893197713, 42.54260869565218, 'mse = 0.0\\nsamples = 1\\nvalue = 19.0'),\n",
       " Text(196.45289256198348, 42.54260869565218, 'X[0] <= 17.595\\nmse = 0.01\\nsamples = 2\\nvalue = 21.6'),\n",
       " Text(195.60152574698031, 33.0886956521739, 'mse = 0.0\\nsamples = 1\\nvalue = 21.7'),\n",
       " Text(197.30425937698666, 33.0886956521739, 'mse = -0.0\\nsamples = 1\\nvalue = 21.5'),\n",
       " Text(194.75015893197713, 70.90434782608696, 'mse = 0.0\\nsamples = 1\\nvalue = 13.6'),\n",
       " Text(196.45289256198348, 89.81217391304348, 'X[0] <= 18.04\\nmse = 0.81\\nsamples = 2\\nvalue = 15.7'),\n",
       " Text(195.60152574698031, 80.35826086956521, 'mse = 0.0\\nsamples = 1\\nvalue = 14.8'),\n",
       " Text(197.30425937698666, 80.35826086956521, 'mse = 0.0\\nsamples = 1\\nvalue = 16.6'),\n",
       " Text(201.56109345200255, 99.26608695652173, 'X[1] <= 6.072\\nmse = 5.254\\nsamples = 5\\nvalue = 21.08'),\n",
       " Text(199.8583598219962, 89.81217391304348, 'X[1] <= 6.058\\nmse = 0.36\\nsamples = 2\\nvalue = 23.8'),\n",
       " Text(199.006993006993, 80.35826086956521, 'mse = 0.0\\nsamples = 1\\nvalue = 23.2'),\n",
       " Text(200.70972663699936, 80.35826086956521, 'mse = 0.0\\nsamples = 1\\nvalue = 24.4'),\n",
       " Text(203.2638270820089, 89.81217391304348, 'X[1] <= 6.086\\nmse = 0.296\\nsamples = 3\\nvalue = 19.267'),\n",
       " Text(202.41246026700574, 80.35826086956521, 'mse = 0.0\\nsamples = 1\\nvalue = 20.0'),\n",
       " Text(204.1151938970121, 80.35826086956521, 'X[1] <= 6.103\\nmse = 0.04\\nsamples = 2\\nvalue = 18.9'),\n",
       " Text(203.2638270820089, 70.90434782608696, 'mse = 0.0\\nsamples = 1\\nvalue = 18.7'),\n",
       " Text(204.96656071201528, 70.90434782608696, 'mse = 0.0\\nsamples = 1\\nvalue = 19.1'),\n",
       " Text(210.07476160203433, 108.72, 'X[1] <= 6.159\\nmse = 2.84\\nsamples = 5\\nvalue = 17.1'),\n",
       " Text(209.22339478703117, 99.26608695652173, 'X[0] <= 18.59\\nmse = 1.1\\nsamples = 4\\nvalue = 16.4'),\n",
       " Text(208.37202797202798, 89.81217391304348, 'X[1] <= 6.151\\nmse = 0.827\\nsamples = 3\\nvalue = 16.8'),\n",
       " Text(207.5206611570248, 80.35826086956521, 'X[1] <= 6.14\\nmse = 0.16\\nsamples = 2\\nvalue = 17.4'),\n",
       " Text(206.66929434202163, 70.90434782608696, 'mse = 0.0\\nsamples = 1\\nvalue = 17.0'),\n",
       " Text(208.37202797202798, 70.90434782608696, 'mse = 0.0\\nsamples = 1\\nvalue = 17.8'),\n",
       " Text(209.22339478703117, 80.35826086956521, 'mse = -0.0\\nsamples = 1\\nvalue = 15.6'),\n",
       " Text(210.07476160203433, 89.81217391304348, 'mse = -0.0\\nsamples = 1\\nvalue = 15.2'),\n",
       " Text(210.92612841703752, 99.26608695652173, 'mse = -0.0\\nsamples = 1\\nvalue = 19.9'),\n",
       " Text(196.09871066433567, 165.44347826086957, 'mse = -0.0\\nsamples = 1\\nvalue = 27.1'),\n",
       " Text(221.24895104895106, 174.89739130434782, 'X[1] <= 6.457\\nmse = 5.97\\nsamples = 26\\nvalue = 14.988'),\n",
       " Text(214.544437380801, 165.44347826086957, 'X[0] <= 14.555\\nmse = 4.971\\nsamples = 18\\nvalue = 15.628'),\n",
       " Text(213.69307056579785, 155.98956521739132, 'mse = 0.0\\nsamples = 1\\nvalue = 10.9'),\n",
       " Text(215.3958041958042, 155.98956521739132, 'X[0] <= 15.885\\nmse = 3.871\\nsamples = 17\\nvalue = 15.906'),\n",
       " Text(211.7774952320407, 146.53565217391304, 'X[1] <= 6.303\\nmse = 0.862\\nsamples = 5\\nvalue = 17.78'),\n",
       " Text(210.92612841703752, 137.08173913043478, 'mse = 0.0\\nsamples = 1\\nvalue = 19.4'),\n",
       " Text(212.62886204704387, 137.08173913043478, 'X[0] <= 15.205\\nmse = 0.257\\nsamples = 4\\nvalue = 17.375'),\n",
       " Text(211.7774952320407, 127.62782608695652, 'X[1] <= 6.393\\nmse = 0.169\\nsamples = 3\\nvalue = 17.167'),\n",
       " Text(210.92612841703752, 118.17391304347825, 'mse = 0.0\\nsamples = 1\\nvalue = 17.7'),\n",
       " Text(212.62886204704387, 118.17391304347825, 'X[0] <= 14.805\\nmse = 0.04\\nsamples = 2\\nvalue = 16.9'),\n",
       " Text(211.7774952320407, 108.72, 'mse = 0.0\\nsamples = 1\\nvalue = 17.1'),\n",
       " Text(213.48022886204706, 108.72, 'mse = 0.0\\nsamples = 1\\nvalue = 16.7'),\n",
       " Text(213.48022886204706, 127.62782608695652, 'mse = -0.0\\nsamples = 1\\nvalue = 18.0'),\n",
       " Text(219.01411315956773, 146.53565217391304, 'X[0] <= 16.7\\nmse = 3.052\\nsamples = 12\\nvalue = 15.125'),\n",
       " Text(216.0343293070566, 137.08173913043478, 'X[1] <= 6.276\\nmse = 0.949\\nsamples = 3\\nvalue = 13.933'),\n",
       " Text(215.1829624920534, 127.62782608695652, 'mse = 0.0\\nsamples = 1\\nvalue = 12.6'),\n",
       " Text(216.88569612205976, 127.62782608695652, 'X[1] <= 6.368\\nmse = 0.09\\nsamples = 2\\nvalue = 14.6'),\n",
       " Text(216.0343293070566, 118.17391304347825, 'mse = 0.0\\nsamples = 1\\nvalue = 14.9'),\n",
       " Text(217.73706293706294, 118.17391304347825, 'mse = -0.0\\nsamples = 1\\nvalue = 14.3'),\n",
       " Text(221.99389701207883, 137.08173913043478, 'X[0] <= 17.62\\nmse = 3.122\\nsamples = 9\\nvalue = 15.522'),\n",
       " Text(220.29116338207248, 127.62782608695652, 'X[1] <= 6.316\\nmse = 0.776\\nsamples = 3\\nvalue = 17.333'),\n",
       " Text(219.4397965670693, 118.17391304347825, 'X[0] <= 17.435\\nmse = 0.723\\nsamples = 2\\nvalue = 16.95'),\n",
       " Text(218.58842975206613, 108.72, 'mse = 0.0\\nsamples = 1\\nvalue = 16.1'),\n",
       " Text(220.29116338207248, 108.72, 'mse = -0.0\\nsamples = 1\\nvalue = 17.8'),\n",
       " Text(221.14253019707567, 118.17391304347825, 'mse = 0.0\\nsamples = 1\\nvalue = 18.1'),\n",
       " Text(223.6966306420852, 127.62782608695652, 'X[1] <= 6.406\\nmse = 1.835\\nsamples = 6\\nvalue = 14.617'),\n",
       " Text(222.84526382708202, 118.17391304347825, 'X[0] <= 18.75\\nmse = 0.722\\nsamples = 5\\nvalue = 14.12'),\n",
       " Text(221.99389701207883, 108.72, 'X[0] <= 18.08\\nmse = 0.082\\nsamples = 4\\nvalue = 14.525'),\n",
       " Text(221.14253019707567, 99.26608695652173, 'X[1] <= 6.345\\nmse = 0.029\\nsamples = 3\\nvalue = 14.667'),\n",
       " Text(220.29116338207248, 89.81217391304348, 'X[1] <= 6.263\\nmse = 0.023\\nsamples = 2\\nvalue = 14.75'),\n",
       " Text(219.4397965670693, 80.35826086956521, 'mse = 0.0\\nsamples = 1\\nvalue = 14.6'),\n",
       " Text(221.14253019707567, 80.35826086956521, 'mse = 0.0\\nsamples = 1\\nvalue = 14.9'),\n",
       " Text(221.99389701207883, 89.81217391304348, 'mse = -0.0\\nsamples = 1\\nvalue = 14.5'),\n",
       " Text(222.84526382708202, 99.26608695652173, 'mse = 0.0\\nsamples = 1\\nvalue = 14.1'),\n",
       " Text(223.6966306420852, 108.72, 'mse = 0.0\\nsamples = 1\\nvalue = 12.5'),\n",
       " Text(224.54799745708837, 118.17391304347825, 'mse = 0.0\\nsamples = 1\\nvalue = 17.1'),\n",
       " Text(227.9534647171011, 165.44347826086957, 'X[1] <= 6.466\\nmse = 5.23\\nsamples = 8\\nvalue = 13.55'),\n",
       " Text(227.1020979020979, 155.98956521739132, 'mse = 0.0\\nsamples = 1\\nvalue = 9.6'),\n",
       " Text(228.80483153210426, 155.98956521739132, 'X[1] <= 6.859\\nmse = 3.43\\nsamples = 7\\nvalue = 14.114'),\n",
       " Text(227.9534647171011, 146.53565217391304, 'X[0] <= 16.77\\nmse = 1.319\\nsamples = 6\\nvalue = 14.733'),\n",
       " Text(227.1020979020979, 137.08173913043478, 'mse = 0.0\\nsamples = 1\\nvalue = 16.4'),\n",
       " Text(228.80483153210426, 137.08173913043478, 'X[0] <= 17.585\\nmse = 0.916\\nsamples = 5\\nvalue = 14.4'),\n",
       " Text(227.1020979020979, 127.62782608695652, 'X[0] <= 17.28\\nmse = 0.022\\nsamples = 2\\nvalue = 13.25'),\n",
       " Text(226.25073108709472, 118.17391304347825, 'mse = 0.0\\nsamples = 1\\nvalue = 13.1'),\n",
       " Text(227.9534647171011, 118.17391304347825, 'mse = -0.0\\nsamples = 1\\nvalue = 13.4'),\n",
       " Text(230.50756516211064, 127.62782608695652, 'X[1] <= 6.692\\nmse = 0.042\\nsamples = 3\\nvalue = 15.167'),\n",
       " Text(229.65619834710745, 118.17391304347825, 'X[0] <= 18.29\\nmse = 0.01\\nsamples = 2\\nvalue = 15.3'),\n",
       " Text(228.80483153210426, 108.72, 'mse = 0.0\\nsamples = 1\\nvalue = 15.2'),\n",
       " Text(230.50756516211064, 108.72, 'mse = 0.0\\nsamples = 1\\nvalue = 15.4'),\n",
       " Text(231.3589319771138, 118.17391304347825, 'mse = 0.0\\nsamples = 1\\nvalue = 14.9'),\n",
       " Text(229.65619834710745, 146.53565217391304, 'mse = -0.0\\nsamples = 1\\nvalue = 10.4'),\n",
       " Text(272.90297202797206, 184.3513043478261, 'X[0] <= 29.95\\nmse = 14.738\\nsamples = 61\\nvalue = 12.197'),\n",
       " Text(256.7669103623649, 174.89739130434782, 'X[1] <= 5.657\\nmse = 13.688\\nsamples = 52\\nvalue = 12.74'),\n",
       " Text(241.94780673871585, 165.44347826086957, 'X[0] <= 29.54\\nmse = 12.721\\nsamples = 21\\nvalue = 14.586'),\n",
       " Text(237.85060394151304, 155.98956521739132, 'X[1] <= 4.914\\nmse = 9.158\\nsamples = 19\\nvalue = 14.005'),\n",
       " Text(232.210298792117, 146.53565217391304, 'X[0] <= 25.81\\nmse = 0.407\\nsamples = 3\\nvalue = 11.4'),\n",
       " Text(231.3589319771138, 137.08173913043478, 'mse = 0.0\\nsamples = 1\\nvalue = 11.9'),\n",
       " Text(233.06166560712018, 137.08173913043478, 'X[1] <= 4.841\\nmse = 0.422\\nsamples = 2\\nvalue = 11.15'),\n",
       " Text(232.210298792117, 127.62782608695652, 'mse = 0.0\\nsamples = 1\\nvalue = 10.5'),\n",
       " Text(233.91303242212334, 127.62782608695652, 'mse = 0.0\\nsamples = 1\\nvalue = 11.8'),\n",
       " Text(243.4909090909091, 146.53565217391304, 'X[1] <= 5.494\\nmse = 9.288\\nsamples = 16\\nvalue = 14.494'),\n",
       " Text(238.16986649713922, 137.08173913043478, 'X[0] <= 24.445\\nmse = 8.221\\nsamples = 9\\nvalue = 15.611'),\n",
       " Text(235.6157660521297, 127.62782608695652, 'X[0] <= 21.97\\nmse = 11.207\\nsamples = 4\\nvalue = 16.775'),\n",
       " Text(233.91303242212334, 118.17391304347825, 'X[1] <= 5.273\\nmse = 5.76\\nsamples = 2\\nvalue = 13.9'),\n",
       " Text(233.06166560712018, 108.72, 'mse = 0.0\\nsamples = 1\\nvalue = 16.3'),\n",
       " Text(234.76439923712653, 108.72, 'mse = 0.0\\nsamples = 1\\nvalue = 11.5'),\n",
       " Text(237.31849968213606, 118.17391304347825, 'X[0] <= 23.535\\nmse = 0.123\\nsamples = 2\\nvalue = 19.65'),\n",
       " Text(236.46713286713288, 108.72, 'mse = 0.0\\nsamples = 1\\nvalue = 20.0'),\n",
       " Text(238.16986649713922, 108.72, 'mse = 0.0\\nsamples = 1\\nvalue = 19.3'),\n",
       " Text(240.72396694214876, 127.62782608695652, 'X[0] <= 25.665\\nmse = 3.882\\nsamples = 5\\nvalue = 14.68'),\n",
       " Text(239.8726001271456, 118.17391304347825, 'mse = 0.0\\nsamples = 1\\nvalue = 12.0'),\n",
       " Text(241.57533375715195, 118.17391304347825, 'X[0] <= 27.57\\nmse = 2.607\\nsamples = 4\\nvalue = 15.35'),\n",
       " Text(239.8726001271456, 108.72, 'X[0] <= 26.62\\nmse = 1.21\\nsamples = 2\\nvalue = 14.5'),\n",
       " Text(239.0212333121424, 99.26608695652173, 'mse = 0.0\\nsamples = 1\\nvalue = 15.6'),\n",
       " Text(240.72396694214876, 99.26608695652173, 'mse = -0.0\\nsamples = 1\\nvalue = 13.4'),\n",
       " Text(243.2780673871583, 108.72, 'X[0] <= 28.925\\nmse = 2.56\\nsamples = 2\\nvalue = 16.2'),\n",
       " Text(242.42670057215514, 99.26608695652173, 'mse = 0.0\\nsamples = 1\\nvalue = 17.8'),\n",
       " Text(244.1294342021615, 99.26608695652173, 'mse = 0.0\\nsamples = 1\\nvalue = 14.6'),\n",
       " Text(248.81195168467897, 137.08173913043478, 'X[1] <= 5.553\\nmse = 6.991\\nsamples = 7\\nvalue = 13.057'),\n",
       " Text(246.68353464717103, 127.62782608695652, 'X[0] <= 25.97\\nmse = 2.587\\nsamples = 3\\nvalue = 10.7'),\n",
       " Text(245.83216783216784, 118.17391304347825, 'X[1] <= 5.528\\nmse = 0.25\\nsamples = 2\\nvalue = 11.8'),\n",
       " Text(244.98080101716465, 108.72, 'mse = 0.0\\nsamples = 1\\nvalue = 12.3'),\n",
       " Text(246.68353464717103, 108.72, 'mse = -0.0\\nsamples = 1\\nvalue = 11.3'),\n",
       " Text(247.5349014621742, 118.17391304347825, 'mse = 0.0\\nsamples = 1\\nvalue = 8.5'),\n",
       " Text(250.94036872218692, 127.62782608695652, 'X[0] <= 24.64\\nmse = 3.002\\nsamples = 4\\nvalue = 14.825'),\n",
       " Text(249.23763509218057, 118.17391304347825, 'X[1] <= 5.599\\nmse = 0.16\\nsamples = 2\\nvalue = 13.2'),\n",
       " Text(248.38626827717738, 108.72, 'mse = 0.0\\nsamples = 1\\nvalue = 13.6'),\n",
       " Text(250.08900190718373, 108.72, 'mse = 0.0\\nsamples = 1\\nvalue = 12.8'),\n",
       " Text(252.64310235219327, 118.17391304347825, 'X[0] <= 26.83\\nmse = 0.562\\nsamples = 2\\nvalue = 16.45'),\n",
       " Text(251.7917355371901, 108.72, 'mse = 0.0\\nsamples = 1\\nvalue = 17.2'),\n",
       " Text(253.49446916719646, 108.72, 'mse = -0.0\\nsamples = 1\\nvalue = 15.7'),\n",
       " Text(246.04500953591864, 155.98956521739132, 'X[1] <= 5.522\\nmse = 12.96\\nsamples = 2\\nvalue = 20.1'),\n",
       " Text(245.19364272091545, 146.53565217391304, 'mse = 0.0\\nsamples = 1\\nvalue = 23.7'),\n",
       " Text(246.89637635092183, 146.53565217391304, 'mse = -0.0\\nsamples = 1\\nvalue = 16.5'),\n",
       " Text(271.586013986014, 165.44347826086957, 'X[1] <= 5.698\\nmse = 10.473\\nsamples = 31\\nvalue = 11.49'),\n",
       " Text(270.7346471710108, 155.98956521739132, 'mse = 0.0\\nsamples = 1\\nvalue = 5.0'),\n",
       " Text(272.4373808010172, 155.98956521739132, 'X[0] <= 24.945\\nmse = 9.371\\nsamples = 30\\nvalue = 11.707'),\n",
       " Text(263.285187539733, 146.53565217391304, 'X[0] <= 21.15\\nmse = 7.573\\nsamples = 24\\nvalue = 12.3'),\n",
       " Text(257.3256198347108, 137.08173913043478, 'X[0] <= 19.9\\nmse = 7.926\\nsamples = 8\\nvalue = 11.388'),\n",
       " Text(255.1972027972028, 127.62782608695652, 'X[0] <= 19.785\\nmse = 0.04\\nsamples = 2\\nvalue = 14.3'),\n",
       " Text(254.34583598219962, 118.17391304347825, 'mse = 0.0\\nsamples = 1\\nvalue = 14.1'),\n",
       " Text(256.048569612206, 118.17391304347825, 'mse = -0.0\\nsamples = 1\\nvalue = 14.5'),\n",
       " Text(259.4540368722187, 127.62782608695652, 'X[1] <= 6.36\\nmse = 6.785\\nsamples = 6\\nvalue = 10.417'),\n",
       " Text(257.7513032422124, 118.17391304347825, 'X[1] <= 6.15\\nmse = 0.482\\nsamples = 3\\nvalue = 8.167'),\n",
       " Text(256.8999364272092, 108.72, 'X[0] <= 20.27\\nmse = 0.022\\nsamples = 2\\nvalue = 8.65'),\n",
       " Text(256.048569612206, 99.26608695652173, 'mse = 0.0\\nsamples = 1\\nvalue = 8.5'),\n",
       " Text(257.7513032422124, 99.26608695652173, 'mse = -0.0\\nsamples = 1\\nvalue = 8.8'),\n",
       " Text(258.6026700572155, 108.72, 'mse = 0.0\\nsamples = 1\\nvalue = 7.2'),\n",
       " Text(261.1567705022251, 118.17391304347825, 'X[1] <= 6.39\\nmse = 2.962\\nsamples = 3\\nvalue = 12.667'),\n",
       " Text(260.3054036872219, 108.72, 'mse = 0.0\\nsamples = 1\\nvalue = 15.0'),\n",
       " Text(262.00813731722826, 108.72, 'X[0] <= 20.695\\nmse = 0.36\\nsamples = 2\\nvalue = 11.5'),\n",
       " Text(261.1567705022251, 99.26608695652173, 'mse = 0.0\\nsamples = 1\\nvalue = 12.1'),\n",
       " Text(262.8595041322314, 99.26608695652173, 'mse = 0.0\\nsamples = 1\\nvalue = 10.9'),\n",
       " Text(269.24475524475525, 137.08173913043478, 'X[0] <= 21.42\\nmse = 6.771\\nsamples = 16\\nvalue = 12.756'),\n",
       " Text(265.41360457724096, 127.62782608695652, 'X[1] <= 6.726\\nmse = 6.332\\nsamples = 4\\nvalue = 15.725'),\n",
       " Text(264.56223776223777, 118.17391304347825, 'X[1] <= 5.93\\nmse = 5.829\\nsamples = 3\\nvalue = 16.533'),\n",
       " Text(263.7108709472346, 108.72, 'mse = 0.0\\nsamples = 1\\nvalue = 13.3'),\n",
       " Text(265.41360457724096, 108.72, 'X[0] <= 21.27\\nmse = 0.903\\nsamples = 2\\nvalue = 18.15'),\n",
       " Text(264.56223776223777, 99.26608695652173, 'mse = 0.0\\nsamples = 1\\nvalue = 17.2'),\n",
       " Text(266.26497139224415, 99.26608695652173, 'mse = 0.0\\nsamples = 1\\nvalue = 19.1'),\n",
       " Text(266.26497139224415, 118.17391304347825, 'mse = -0.0\\nsamples = 1\\nvalue = 13.3'),\n",
       " Text(273.07590591226955, 127.62782608695652, 'X[0] <= 22.99\\nmse = 3.001\\nsamples = 12\\nvalue = 11.767'),\n",
       " Text(269.67043865225685, 118.17391304347825, 'X[1] <= 6.523\\nmse = 1.914\\nsamples = 5\\nvalue = 10.56'),\n",
       " Text(268.81907183725366, 108.72, 'X[1] <= 5.765\\nmse = 0.935\\nsamples = 4\\nvalue = 11.1'),\n",
       " Text(267.96770502225047, 99.26608695652173, 'mse = 0.0\\nsamples = 1\\nvalue = 12.7'),\n",
       " Text(269.67043865225685, 99.26608695652173, 'X[0] <= 21.65\\nmse = 0.109\\nsamples = 3\\nvalue = 10.567'),\n",
       " Text(268.81907183725366, 89.81217391304348, 'mse = 0.0\\nsamples = 1\\nvalue = 11.0'),\n",
       " Text(270.52180546726004, 89.81217391304348, 'X[0] <= 21.945\\nmse = 0.022\\nsamples = 2\\nvalue = 10.35'),\n",
       " Text(269.67043865225685, 80.35826086956521, 'mse = 0.0\\nsamples = 1\\nvalue = 10.2'),\n",
       " Text(271.3731722822632, 80.35826086956521, 'mse = 0.0\\nsamples = 1\\nvalue = 10.5'),\n",
       " Text(270.52180546726004, 108.72, 'mse = -0.0\\nsamples = 1\\nvalue = 8.4'),\n",
       " Text(276.4813731722823, 118.17391304347825, 'X[0] <= 23.835\\nmse = 1.993\\nsamples = 7\\nvalue = 12.629'),\n",
       " Text(273.92727272727274, 108.72, 'X[0] <= 23.255\\nmse = 0.082\\nsamples = 4\\nvalue = 13.45'),\n",
       " Text(273.07590591226955, 99.26608695652173, 'mse = 0.0\\nsamples = 1\\nvalue = 13.9'),\n",
       " Text(274.7786395422759, 99.26608695652173, 'X[0] <= 23.49\\nmse = 0.02\\nsamples = 3\\nvalue = 13.3'),\n",
       " Text(273.92727272727274, 89.81217391304348, 'X[1] <= 6.366\\nmse = 0.0\\nsamples = 2\\nvalue = 13.4'),\n",
       " Text(273.07590591226955, 80.35826086956521, 'mse = 0.0\\nsamples = 1\\nvalue = 13.4'),\n",
       " Text(274.7786395422759, 80.35826086956521, 'mse = 0.0\\nsamples = 1\\nvalue = 13.4'),\n",
       " Text(275.6300063572791, 89.81217391304348, 'mse = -0.0\\nsamples = 1\\nvalue = 13.1'),\n",
       " Text(279.0354736172918, 108.72, 'X[0] <= 24.09\\nmse = 2.442\\nsamples = 3\\nvalue = 11.533'),\n",
       " Text(278.1841068022886, 99.26608695652173, 'X[0] <= 24.03\\nmse = 1.322\\nsamples = 2\\nvalue = 10.65'),\n",
       " Text(277.33273998728544, 89.81217391304348, 'mse = 0.0\\nsamples = 1\\nvalue = 11.8'),\n",
       " Text(279.0354736172918, 89.81217391304348, 'mse = 0.0\\nsamples = 1\\nvalue = 9.5'),\n",
       " Text(279.886840432295, 99.26608695652173, 'mse = -0.0\\nsamples = 1\\nvalue = 13.3'),\n",
       " Text(281.5895740623013, 146.53565217391304, 'X[0] <= 27.24\\nmse = 9.526\\nsamples = 6\\nvalue = 9.333'),\n",
       " Text(279.886840432295, 137.08173913043478, 'X[0] <= 26.61\\nmse = 1.629\\nsamples = 3\\nvalue = 7.267'),\n",
       " Text(279.0354736172918, 127.62782608695652, 'X[0] <= 26.12\\nmse = 0.36\\nsamples = 2\\nvalue = 8.1'),\n",
       " Text(278.1841068022886, 118.17391304347825, 'mse = 0.0\\nsamples = 1\\nvalue = 7.5'),\n",
       " Text(279.886840432295, 118.17391304347825, 'mse = 0.0\\nsamples = 1\\nvalue = 8.7'),\n",
       " Text(280.7382072472982, 127.62782608695652, 'mse = -0.0\\nsamples = 1\\nvalue = 5.6'),\n",
       " Text(283.2923076923077, 137.08173913043478, 'X[1] <= 6.282\\nmse = 8.88\\nsamples = 3\\nvalue = 11.4'),\n",
       " Text(282.4409408773045, 127.62782608695652, 'X[0] <= 27.755\\nmse = 0.09\\nsamples = 2\\nvalue = 13.5'),\n",
       " Text(281.5895740623013, 118.17391304347825, 'mse = 0.0\\nsamples = 1\\nvalue = 13.2'),\n",
       " Text(283.2923076923077, 118.17391304347825, 'mse = 0.0\\nsamples = 1\\nvalue = 13.8'),\n",
       " Text(284.1436745073109, 127.62782608695652, 'mse = -0.0\\nsamples = 1\\nvalue = 7.2'),\n",
       " Text(289.03903369357914, 174.89739130434782, 'X[0] <= 30.605\\nmse = 9.234\\nsamples = 9\\nvalue = 9.056'),\n",
       " Text(286.6977749523204, 165.44347826086957, 'X[1] <= 5.653\\nmse = 0.422\\nsamples = 2\\nvalue = 5.65'),\n",
       " Text(285.84640813731727, 155.98956521739132, 'mse = 0.0\\nsamples = 1\\nvalue = 5.0'),\n",
       " Text(287.5491417673236, 155.98956521739132, 'mse = -0.0\\nsamples = 1\\nvalue = 6.3'),\n",
       " Text(291.3802924348379, 165.44347826086957, 'X[1] <= 5.338\\nmse = 7.491\\nsamples = 7\\nvalue = 10.029'),\n",
       " Text(289.25187539732997, 155.98956521739132, 'X[1] <= 4.94\\nmse = 5.834\\nsamples = 5\\nvalue = 9.48'),\n",
       " Text(287.5491417673236, 146.53565217391304, 'X[0] <= 31.296\\nmse = 4.436\\nsamples = 3\\nvalue = 10.933'),\n",
       " Text(286.6977749523204, 137.08173913043478, 'X[0] <= 30.625\\nmse = 0.49\\nsamples = 2\\nvalue = 9.5'),\n",
       " Text(285.84640813731727, 127.62782608695652, 'mse = 0.0\\nsamples = 1\\nvalue = 10.2'),\n",
       " Text(287.5491417673236, 127.62782608695652, 'mse = 0.0\\nsamples = 1\\nvalue = 8.8'),\n",
       " Text(288.4005085823268, 137.08173913043478, 'mse = 0.0\\nsamples = 1\\nvalue = 13.8'),\n",
       " Text(290.9546090273363, 146.53565217391304, 'X[1] <= 5.138\\nmse = 0.01\\nsamples = 2\\nvalue = 7.3'),\n",
       " Text(290.10324221233316, 137.08173913043478, 'mse = 0.0\\nsamples = 1\\nvalue = 7.4'),\n",
       " Text(291.8059758423395, 137.08173913043478, 'mse = -0.0\\nsamples = 1\\nvalue = 7.2'),\n",
       " Text(293.50870947234586, 155.98956521739132, 'X[0] <= 31.386\\nmse = 9.0\\nsamples = 2\\nvalue = 11.4'),\n",
       " Text(292.65734265734267, 146.53565217391304, 'mse = 0.0\\nsamples = 1\\nvalue = 14.4'),\n",
       " Text(294.36007628734905, 146.53565217391304, 'mse = 0.0\\nsamples = 1\\nvalue = 8.4'),\n",
       " Text(319.0829704386523, 203.2591304347826, 'X[1] <= 7.437\\nmse = 69.759\\nsamples = 56\\nvalue = 38.043'),\n",
       " Text(308.8998251748252, 193.80521739130435, 'X[0] <= 12.55\\nmse = 28.828\\nsamples = 33\\nvalue = 32.961'),\n",
       " Text(304.33703115066754, 184.3513043478261, 'X[0] <= 3.795\\nmse = 19.692\\nsamples = 31\\nvalue = 33.613'),\n",
       " Text(297.76554354736174, 174.89739130434782, 'X[0] <= 2.95\\nmse = 40.427\\nsamples = 4\\nvalue = 39.275'),\n",
       " Text(296.06280991735537, 165.44347826086957, 'X[0] <= 2.905\\nmse = 2.25\\nsamples = 2\\nvalue = 34.9'),\n",
       " Text(295.21144310235223, 155.98956521739132, 'mse = 0.0\\nsamples = 1\\nvalue = 36.4'),\n",
       " Text(296.91417673235856, 155.98956521739132, 'mse = -0.0\\nsamples = 1\\nvalue = 33.4'),\n",
       " Text(299.4682771773681, 165.44347826086957, 'X[0] <= 3.26\\nmse = 40.323\\nsamples = 2\\nvalue = 43.65'),\n",
       " Text(298.61691036236493, 155.98956521739132, 'mse = 0.0\\nsamples = 1\\nvalue = 50.0'),\n",
       " Text(300.31964399237125, 155.98956521739132, 'mse = 0.0\\nsamples = 1\\nvalue = 37.3'),\n",
       " Text(310.90851875397334, 174.89739130434782, 'X[1] <= 7.121\\nmse = 11.167\\nsamples = 27\\nvalue = 32.774'),\n",
       " Text(304.1507946598856, 165.44347826086957, 'X[1] <= 6.994\\nmse = 16.112\\nsamples = 10\\nvalue = 30.46'),\n",
       " Text(302.02237762237763, 155.98956521739132, 'X[0] <= 8.35\\nmse = 7.312\\nsamples = 4\\nvalue = 33.75'),\n",
       " Text(301.17101080737444, 146.53565217391304, 'X[0] <= 4.95\\nmse = 2.816\\nsamples = 3\\nvalue = 35.067'),\n",
       " Text(300.31964399237125, 137.08173913043478, 'X[1] <= 6.978\\nmse = 0.81\\nsamples = 2\\nvalue = 34.0'),\n",
       " Text(299.4682771773681, 127.62782608695652, 'mse = 0.0\\nsamples = 1\\nvalue = 34.9'),\n",
       " Text(301.17101080737444, 127.62782608695652, 'mse = -0.0\\nsamples = 1\\nvalue = 33.1'),\n",
       " Text(302.02237762237763, 137.08173913043478, 'mse = 0.0\\nsamples = 1\\nvalue = 37.2'),\n",
       " Text(302.8737444373808, 146.53565217391304, 'mse = 0.0\\nsamples = 1\\nvalue = 29.8'),\n",
       " Text(306.2792116973935, 155.98956521739132, 'X[1] <= 7.07\\nmse = 9.952\\nsamples = 6\\nvalue = 28.267'),\n",
       " Text(304.5764780673872, 146.53565217391304, 'X[0] <= 5.12\\nmse = 5.236\\nsamples = 3\\nvalue = 25.867'),\n",
       " Text(303.725111252384, 137.08173913043478, 'mse = 0.0\\nsamples = 1\\nvalue = 29.0'),\n",
       " Text(305.42784488239033, 137.08173913043478, 'X[0] <= 6.255\\nmse = 0.49\\nsamples = 2\\nvalue = 24.3'),\n",
       " Text(304.5764780673872, 127.62782608695652, 'mse = 0.0\\nsamples = 1\\nvalue = 23.6'),\n",
       " Text(306.2792116973935, 127.62782608695652, 'mse = 0.0\\nsamples = 1\\nvalue = 25.0'),\n",
       " Text(307.9819453273999, 146.53565217391304, 'X[0] <= 6.875\\nmse = 3.149\\nsamples = 3\\nvalue = 30.667'),\n",
       " Text(307.1305785123967, 137.08173913043478, 'mse = 0.0\\nsamples = 1\\nvalue = 28.7'),\n",
       " Text(308.8333121424031, 137.08173913043478, 'X[1] <= 7.105\\nmse = 1.823\\nsamples = 2\\nvalue = 31.65'),\n",
       " Text(307.9819453273999, 127.62782608695652, 'mse = 0.0\\nsamples = 1\\nvalue = 33.0'),\n",
       " Text(309.6846789574062, 127.62782608695652, 'mse = 0.0\\nsamples = 1\\nvalue = 30.3'),\n",
       " Text(317.666242848061, 165.44347826086957, 'X[1] <= 7.345\\nmse = 3.255\\nsamples = 17\\nvalue = 34.135'),\n",
       " Text(314.15435473617293, 155.98956521739132, 'X[1] <= 7.159\\nmse = 2.822\\nsamples = 14\\nvalue = 34.55'),\n",
       " Text(311.3874125874126, 146.53565217391304, 'X[1] <= 7.141\\nmse = 4.309\\nsamples = 3\\nvalue = 35.667'),\n",
       " Text(310.5360457724094, 137.08173913043478, 'mse = 0.0\\nsamples = 1\\nvalue = 32.9'),\n",
       " Text(312.2387794024158, 137.08173913043478, 'X[1] <= 7.151\\nmse = 0.723\\nsamples = 2\\nvalue = 37.05'),\n",
       " Text(311.3874125874126, 127.62782608695652, 'mse = 0.0\\nsamples = 1\\nvalue = 36.2'),\n",
       " Text(313.090146217419, 127.62782608695652, 'mse = 0.0\\nsamples = 1\\nvalue = 37.9'),\n",
       " Text(316.92129688493327, 146.53565217391304, 'X[1] <= 7.174\\nmse = 1.984\\nsamples = 11\\nvalue = 34.245'),\n",
       " Text(316.0699300699301, 137.08173913043478, 'mse = 0.0\\nsamples = 1\\nvalue = 31.6'),\n",
       " Text(317.77266369993646, 137.08173913043478, 'X[0] <= 7.205\\nmse = 1.413\\nsamples = 10\\nvalue = 34.51'),\n",
       " Text(314.7928798474253, 127.62782608695652, 'X[0] <= 5.44\\nmse = 0.907\\nsamples = 7\\nvalue = 34.114'),\n",
       " Text(313.090146217419, 118.17391304347825, 'X[1] <= 7.268\\nmse = 0.607\\nsamples = 4\\nvalue = 34.575'),\n",
       " Text(312.2387794024158, 108.72, 'X[1] <= 7.217\\nmse = 0.087\\nsamples = 3\\nvalue = 35.0'),\n",
       " Text(311.3874125874126, 99.26608695652173, 'X[0] <= 4.71\\nmse = 0.01\\nsamples = 2\\nvalue = 34.8'),\n",
       " Text(310.5360457724094, 89.81217391304348, 'mse = 0.0\\nsamples = 1\\nvalue = 34.7'),\n",
       " Text(312.2387794024158, 89.81217391304348, 'mse = 0.0\\nsamples = 1\\nvalue = 34.9'),\n",
       " Text(313.090146217419, 99.26608695652173, 'mse = -0.0\\nsamples = 1\\nvalue = 35.4'),\n",
       " Text(313.94151303242216, 108.72, 'mse = -0.0\\nsamples = 1\\nvalue = 33.3'),\n",
       " Text(316.4956134774317, 118.17391304347825, 'X[1] <= 7.271\\nmse = 0.647\\nsamples = 3\\nvalue = 33.5'),\n",
       " Text(315.6442466624285, 108.72, 'X[0] <= 5.77\\nmse = 0.063\\nsamples = 2\\nvalue = 32.95'),\n",
       " Text(314.7928798474253, 99.26608695652173, 'mse = 0.0\\nsamples = 1\\nvalue = 32.7'),\n",
       " Text(316.4956134774317, 99.26608695652173, 'mse = 0.0\\nsamples = 1\\nvalue = 33.2'),\n",
       " Text(317.34698029243486, 108.72, 'mse = -0.0\\nsamples = 1\\nvalue = 34.6'),\n",
       " Text(320.75244755244756, 127.62782608695652, 'X[0] <= 8.845\\nmse = 1.376\\nsamples = 3\\nvalue = 35.433'),\n",
       " Text(319.9010807374444, 118.17391304347825, 'X[1] <= 7.27\\nmse = 0.062\\nsamples = 2\\nvalue = 36.25'),\n",
       " Text(319.0497139224412, 108.72, 'mse = 0.0\\nsamples = 1\\nvalue = 36.5'),\n",
       " Text(320.75244755244756, 108.72, 'mse = 0.0\\nsamples = 1\\nvalue = 36.0'),\n",
       " Text(321.60381436745075, 118.17391304347825, 'mse = -0.0\\nsamples = 1\\nvalue = 33.8'),\n",
       " Text(321.17813095994916, 155.98956521739132, 'X[1] <= 7.416\\nmse = 0.727\\nsamples = 3\\nvalue = 32.2'),\n",
       " Text(320.32676414494597, 146.53565217391304, 'X[1] <= 7.385\\nmse = 0.01\\nsamples = 2\\nvalue = 31.6'),\n",
       " Text(319.4753973299428, 137.08173913043478, 'mse = 0.0\\nsamples = 1\\nvalue = 31.5'),\n",
       " Text(321.17813095994916, 137.08173913043478, 'mse = -0.0\\nsamples = 1\\nvalue = 31.7'),\n",
       " Text(322.02949777495235, 146.53565217391304, 'mse = 0.0\\nsamples = 1\\nvalue = 33.4'),\n",
       " Text(313.46261919898285, 184.3513043478261, 'X[0] <= 14.115\\nmse = 61.622\\nsamples = 2\\nvalue = 22.85'),\n",
       " Text(312.61125238397966, 174.89739130434782, 'mse = 0.0\\nsamples = 1\\nvalue = 15.0'),\n",
       " Text(314.31398601398604, 174.89739130434782, 'mse = -0.0\\nsamples = 1\\nvalue = 30.7'),\n",
       " Text(329.26611570247934, 193.80521739130435, 'X[0] <= 5.205\\nmse = 38.254\\nsamples = 23\\nvalue = 45.335'),\n",
       " Text(326.28633184996824, 184.3513043478261, 'X[0] <= 2.195\\nmse = 12.431\\nsamples = 19\\nvalue = 46.732'),\n",
       " Text(325.43496503496505, 174.89739130434782, 'mse = 0.0\\nsamples = 2\\nvalue = 50.0'),\n",
       " Text(327.1376986649714, 174.89739130434782, 'X[1] <= 7.628\\nmse = 12.488\\nsamples = 17\\nvalue = 46.347'),\n",
       " Text(325.43496503496505, 165.44347826086957, 'X[1] <= 7.54\\nmse = 0.509\\nsamples = 3\\nvalue = 43.267'),\n",
       " Text(324.58359821996186, 155.98956521739132, 'X[0] <= 3.135\\nmse = 0.062\\nsamples = 2\\nvalue = 43.75'),\n",
       " Text(323.73223140495867, 146.53565217391304, 'mse = 0.0\\nsamples = 1\\nvalue = 44.0'),\n",
       " Text(325.43496503496505, 146.53565217391304, 'mse = 0.0\\nsamples = 1\\nvalue = 43.5'),\n",
       " Text(326.28633184996824, 155.98956521739132, 'mse = 0.0\\nsamples = 1\\nvalue = 42.3'),\n",
       " Text(328.84043229497775, 165.44347826086957, 'X[0] <= 2.675\\nmse = 12.586\\nsamples = 14\\nvalue = 47.007'),\n",
       " Text(327.9890654799746, 155.98956521739132, 'mse = 0.0\\nsamples = 1\\nvalue = 41.7'),\n",
       " Text(329.69179910998093, 155.98956521739132, 'X[0] <= 2.99\\nmse = 11.221\\nsamples = 13\\nvalue = 47.415'),\n",
       " Text(328.84043229497775, 146.53565217391304, 'mse = 0.0\\nsamples = 2\\nvalue = 50.0'),\n",
       " Text(330.5431659249841, 146.53565217391304, 'X[0] <= 4.42\\nmse = 11.826\\nsamples = 11\\nvalue = 46.945'),\n",
       " Text(329.69179910998093, 137.08173913043478, 'X[0] <= 4.08\\nmse = 11.92\\nsamples = 9\\nvalue = 46.267'),\n",
       " Text(328.84043229497775, 127.62782608695652, 'X[0] <= 3.62\\nmse = 5.359\\nsamples = 8\\nvalue = 47.212'),\n",
       " Text(327.1376986649714, 118.17391304347825, 'X[0] <= 3.35\\nmse = 8.676\\nsamples = 3\\nvalue = 46.267'),\n",
       " Text(326.28633184996824, 108.72, 'X[0] <= 3.085\\nmse = 4.0\\nsamples = 2\\nvalue = 48.0'),\n",
       " Text(325.43496503496505, 99.26608695652173, 'mse = 0.0\\nsamples = 1\\nvalue = 46.0'),\n",
       " Text(327.1376986649714, 99.26608695652173, 'mse = 0.0\\nsamples = 1\\nvalue = 50.0'),\n",
       " Text(327.9890654799746, 108.72, 'mse = 0.0\\nsamples = 1\\nvalue = 42.8'),\n",
       " Text(330.5431659249841, 118.17391304347825, 'X[0] <= 3.73\\nmse = 2.51\\nsamples = 5\\nvalue = 47.78'),\n",
       " Text(329.69179910998093, 108.72, 'mse = 0.0\\nsamples = 1\\nvalue = 50.0'),\n",
       " Text(331.3945327399873, 108.72, 'X[0] <= 3.785\\nmse = 1.597\\nsamples = 4\\nvalue = 47.225'),\n",
       " Text(330.5431659249841, 99.26608695652173, 'mse = 0.0\\nsamples = 1\\nvalue = 45.4'),\n",
       " Text(332.2458995549905, 99.26608695652173, 'X[1] <= 7.708\\nmse = 0.649\\nsamples = 3\\nvalue = 47.833'),\n",
       " Text(331.3945327399873, 89.81217391304348, 'mse = 0.0\\nsamples = 1\\nvalue = 46.7'),\n",
       " Text(333.09726636999363, 89.81217391304348, 'X[0] <= 3.88\\nmse = 0.01\\nsamples = 2\\nvalue = 48.4'),\n",
       " Text(332.2458995549905, 80.35826086956521, 'mse = 0.0\\nsamples = 1\\nvalue = 48.5'),\n",
       " Text(333.9486331849968, 80.35826086956521, 'mse = -0.0\\nsamples = 1\\nvalue = 48.3'),\n",
       " Text(330.5431659249841, 127.62782608695652, 'mse = -0.0\\nsamples = 1\\nvalue = 38.7'),\n",
       " Text(331.3945327399873, 137.08173913043478, 'mse = 0.0\\nsamples = 2\\nvalue = 50.0'),\n",
       " Text(332.2458995549905, 184.3513043478261, 'X[0] <= 6.275\\nmse = 107.625\\nsamples = 4\\nvalue = 38.7'),\n",
       " Text(331.3945327399873, 174.89739130434782, 'mse = 0.0\\nsamples = 1\\nvalue = 21.9'),\n",
       " Text(333.09726636999363, 174.89739130434782, 'X[0] <= 7.5\\nmse = 18.06\\nsamples = 3\\nvalue = 44.3'),\n",
       " Text(332.2458995549905, 165.44347826086957, 'X[0] <= 7.35\\nmse = 11.902\\nsamples = 2\\nvalue = 46.55'),\n",
       " Text(331.3945327399873, 155.98956521739132, 'mse = 0.0\\nsamples = 1\\nvalue = 43.1'),\n",
       " Text(333.09726636999363, 155.98956521739132, 'mse = 0.0\\nsamples = 1\\nvalue = 50.0'),\n",
       " Text(333.9486331849968, 165.44347826086957, 'mse = -0.0\\nsamples = 1\\nvalue = 39.8')]"
      ]
     },
     "execution_count": 75,
     "metadata": {},
     "output_type": "execute_result"
    },
    {
     "data": {
      "image/png": "[encoded data removed]",
      "text/plain": [
       "<Figure size 432x288 with 1 Axes>"
      ]
     },
     "metadata": {
      "needs_background": "light"
     },
     "output_type": "display_data"
    }
   ],
   "source": [
    "plot_tree(dtr)\n",
    "     "
   ]
  },
  {
   "cell_type": "code",
   "execution_count": null,
   "id": "892fc15d",
   "metadata": {},
   "outputs": [],
   "source": []
  }
 ],
 "metadata": {
  "kernelspec": {
   "display_name": "Python 3",
   "language": "python",
   "name": "python3"
  },
  "language_info": {
   "codemirror_mode": {
    "name": "ipython",
    "version": 3
   },
   "file_extension": ".py",
   "mimetype": "text/x-python",
   "name": "python",
   "nbconvert_exporter": "python",
   "pygments_lexer": "ipython3",
   "version": "3.8.8"
  }
 },
 "nbformat": 4,
 "nbformat_minor": 5
}
